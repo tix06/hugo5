{
 "cells": [
  {
   "cell_type": "markdown",
   "metadata": {},
   "source": [
    "# Partie 1: Etude de la fonction `interclassement`\n",
    "## Etudier le script de cette fonction\n",
    "*Sur la feuille de réponse:*\n",
    "\n",
    "1. Quel est le type de chaque paramètre de la fonction?\n",
    "2. Quel est le type de chacune des variables internes?\n",
    "3. Tester cette fonction à partir de 2 listes passées en argument: [1,4,3,7] et [2,5,8,6]. Que retourne t-elle?\n",
    "4. Tester maintenant cette fonction à partir de [1,3,4,7] et [2,5,6,8]. Conclure.\n",
    "5. Ecrire le prototype de cette fonction à partir des réponses precedentes. (params, variables, returns, examples)"
   ]
  },
  {
   "cell_type": "code",
   "execution_count": 1,
   "metadata": {},
   "outputs": [],
   "source": [
    "def interclassement(L1,L2):\n",
    "    lN = []\n",
    "    n1, n2 = len(L1),len(L2)\n",
    "    i1, i2 = 0,0\n",
    "    while i1<n1 and i2<n2:\n",
    "        if L1[i1] <= L2[i2]:\n",
    "            lN.append(L1[i1])\n",
    "            i1 += 1\n",
    "        else:\n",
    "            lN.append(L2[i2])\n",
    "            i2 += 1\n",
    "    return lN + L1[i1:] + L2[i2:]"
   ]
  },
  {
   "cell_type": "code",
   "execution_count": null,
   "metadata": {},
   "outputs": [],
   "source": []
  },
  {
   "cell_type": "code",
   "execution_count": null,
   "metadata": {},
   "outputs": [],
   "source": []
  },
  {
   "cell_type": "markdown",
   "metadata": {},
   "source": [
    "# Partie 2: Algorithmes de tri\n",
    "## On donne la description de 3 algorithmes\n",
    "\n",
    "### Tri par selection\n",
    "\n",
    "Sur un tableau de n éléments (numérotés de 0 à n-1), le principe du tri par sélection est le suivant :\n",
    "\n",
    "* rechercher le plus petit élément du tableau, et l'échanger avec l'élément d'indice 0 ;\n",
    "* rechercher le second plus petit élément du tableau, et l'échanger avec l'élément d'indice 1 ;\n",
    "* continuer de cette façon jusqu'à ce que le tableau soit entièrement trié (jusqu'au rang n-2).\n",
    "\n",
    "### Tri simple\n",
    "\n",
    "Trier, c’est déplacer des éléments, et y insérer l’élément rangé, depuis le debut déjà trié de la liste, jusqu’à la fin : \n",
    "\n",
    "* Hyp : l'élément non rangé est le j. Tous les autres éléments sont rangés jusqu’à j.\n",
    "* Il faut d’abord conserver sa valeur à l’aide d’une variable temp\n",
    "* On décale tous les éléments i, depuis le rang j jusqu’à l’élément dont la valeur est inférieure à celle de j (et donc de temp), en redescendant.\n",
    "\n",
    "### tri fusion\n",
    "L'algorithme est naturellement décrit de façon récursive.\n",
    "\n",
    "* Si le tableau n'a qu'un élément, il est déjà trié.\n",
    "* Sinon, séparer le tableau en deux parties à peu près égales.\n",
    "* Trier récursivement le sous-tableau de gauche avec ce même algorithme du tri\n",
    "* Trier récursivement le sous-tableau de droite avec ce même algorithme du tri\n",
    "* Fusionner les deux tableaux triés en un seul tableau trié.\n",
    "\n",
    "## Questions\n",
    "1. A l'aide des scripts python suivants: Quelle fonction correspond à:\n",
    "\n",
    "    * tri simple: ...\n",
    "    * tri par selection: ... \n",
    "    * tri fusion: ...\n",
    "\n",
    "2. La complexité de l'algorithme du tri fusion est $O(N\\times log(N))$. Pour les tris simples et par selection, c'est $O(N^2)$. Lequel de ces tris est le plus efficace? Pourquoi?"
   ]
  },
  {
   "cell_type": "code",
   "execution_count": 6,
   "metadata": {},
   "outputs": [],
   "source": [
    "def tri1(L):\n",
    "    for j in range(len(L)):\n",
    "        temp = L[j]\n",
    "        i = j\n",
    "        while i>0 and L[i-1]>temp:\n",
    "            L[i]=L[i-1]\n",
    "            i-=1\n",
    "        L[i]=temp\n",
    "    return L\n",
    "     \n",
    "def select(T,debut) :\n",
    "    indiceDuMin=debut\n",
    "    for k in range(debut+1,len(T)) :\n",
    "        if T[k]< T[indiceDuMin] :\n",
    "            indiceDuMin=k\n",
    "    if indiceDuMin !=debut :\n",
    "        T[debut],T[indiceDuMin]=T[indiceDuMin],T[debut]\n",
    "\n",
    "        \n",
    "def tri2(T):\n",
    "    for j in range(0,len(T)-1) :\n",
    "        select(T,j)\n",
    "    return T\n",
    "\n",
    "def tri3(L):\n",
    "    if len(L) <=1:\n",
    "        return L\n",
    "    m = len(L)//2\n",
    "    gauche = tri3(L[:m])\n",
    "    droite = tri3(L[m:])\n",
    "    return interclassement(gauche,droite)\n"
   ]
  },
  {
   "cell_type": "markdown",
   "metadata": {},
   "source": [
    "## Créer une liste aléatoire de 100 valeurs\n",
    "*Dans la cellule suivante:*\n",
    "\n",
    "1. Créer une liste `L0` avec la méthode de comprehension de liste.\n",
    "2. importer la librairie `random`\n",
    "3. mélanger alors la liste `L0` à l'aide de la fonction `shuffle` du module `random`. Appeler cette fonction avec pour argument la liste `L0`.\n",
    "4. Vérifier que la liste `L0` est bien mélangée (afficher)."
   ]
  },
  {
   "cell_type": "code",
   "execution_count": null,
   "metadata": {},
   "outputs": [],
   "source": []
  },
  {
   "cell_type": "markdown",
   "metadata": {},
   "source": [
    "## Comparer les 3 algorithmes\n",
    "Dans la cellule suivante:\n",
    "\n",
    "* On importe le module `time`\n",
    "\n",
    "Puis... \n",
    "\n",
    "1. Compléter sur la feuille de réponses:\n",
    "\n",
    "    * On fait une copie par valeur de la liste L0 dans L1\n",
    "    * On relève le temps\n",
    "    * On execute le tri1 sur la liste L0\n",
    "    * On ...\n",
    "    * ...\n",
    "    * ...\n",
    "    * ...\n",
    "\n",
    "2. Executer la cellule et relever la valeur de `interval1`\n",
    "3. Reproduire le même script pour chacune des fonctions de tri, `tri2` et `tri3`: on veut trier la liste, mesurer le temps d'execution, et afficher ce temps ainsi que la liste triée.\n",
    "4. Comparer alors les durées mises par chaque algorithme pour trier la même LISTE.\n",
    "5. Faire plusieurs essais et remplir un tableau pour faire une synthèse des résultats.\n",
    "6. Les résultats sont-ils en accord avec la complexité des 3 algorithmes?\n",
    "7. *S'il vous reste du temps: Déterminer à l'aide d'un raisonnement mathématique la complexité des 3 algorithmes.*"
   ]
  },
  {
   "cell_type": "code",
   "execution_count": null,
   "metadata": {},
   "outputs": [],
   "source": [
    "import time\n",
    "L1 = list(L0)\n",
    "\n",
    "start_time = time.time()\n",
    "L1 = tri1(L1)\n",
    "stop_time = time.time()\n",
    "interval1 = stop_time - start_time\n",
    "print(interval1)\n",
    "print(L1)"
   ]
  },
  {
   "cell_type": "code",
   "execution_count": null,
   "metadata": {},
   "outputs": [],
   "source": []
  }
 ],
 "metadata": {
  "kernelspec": {
   "display_name": "Python 3",
   "language": "python",
   "name": "python3"
  },
  "language_info": {
   "codemirror_mode": {
    "name": "ipython",
    "version": 3
   },
   "file_extension": ".py",
   "mimetype": "text/x-python",
   "name": "python",
   "nbconvert_exporter": "python",
   "pygments_lexer": "ipython3",
   "version": "3.7.6"
  }
 },
 "nbformat": 4,
 "nbformat_minor": 4
}
