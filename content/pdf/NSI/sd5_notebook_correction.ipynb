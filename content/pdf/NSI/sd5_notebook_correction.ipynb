{
  "nbformat": 4,
  "nbformat_minor": 0,
  "metadata": {
    "colab": {
      "name": "sd5_notebook_correction.ipynb",
      "provenance": [],
      "collapsed_sections": []
    },
    "kernelspec": {
      "name": "python3",
      "display_name": "Python 3"
    }
  },
  "cells": [
    {
      "cell_type": "markdown",
      "metadata": {
        "id": "R2Wiz9z2pgXG"
      },
      "source": [
        "# Partie 1: Arbre en liste imbriquée\n",
        "L'arbre suivant est représenté par une liste imbriquée (ou plutôt un tuple imbriqué): \n",
        "\n",
        "```arbre = ('r',('a',('c',None,None),('d',None,None)),('b',('e',None,None),('f',None,None)))```\n",
        "\n",
        "> **Questions:** aidez vous de la cellule suivante pour explorer cette structure de données: A quoi correspondent `arbre[0]`, `arbre[1][0]`, `arbre[1][1]`?\n",
        "\n",
        "\n"
      ]
    },
    {
      "cell_type": "code",
      "metadata": {
        "colab": {
          "base_uri": "https://localhost:8080/",
          "height": 37
        },
        "id": "Ae1ygkcOz3wc",
        "outputId": "74c9af8b-e11a-4710-be8e-3c3ad3c740be"
      },
      "source": [
        "arbre = ('r',('a',('c',None,None),('d',None,None)),('b',('e',None,None),('f',None,None)))\n",
        "arbre[0]"
      ],
      "execution_count": null,
      "outputs": [
        {
          "output_type": "execute_result",
          "data": {
            "application/vnd.google.colaboratory.intrinsic+json": {
              "type": "string"
            },
            "text/plain": [
              "'r'"
            ]
          },
          "metadata": {
            "tags": []
          },
          "execution_count": 12
        }
      ]
    },
    {
      "cell_type": "markdown",
      "metadata": {
        "id": "Mk145AEbrBJl"
      },
      "source": [
        "## Dessiner l'arbre\n",
        "La librairie chargée contient la fonction `hierarchy_pos` pour la représentation graphique de cet arbre.\n",
        "\n",
        "On pourra adapter le script suivant lorsque l'on souhaitera tracer le dessin d'un arbre:\n"
      ]
    },
    {
      "cell_type": "code",
      "metadata": {
        "colab": {
          "base_uri": "https://localhost:8080/",
          "height": 319
        },
        "id": "WFJZ3Qx7rU0H",
        "outputId": "b4bc81f9-d298-48f2-9cfe-1e9f5e846c13"
      },
      "source": [
        "from hierarchyP import hierarchy_pos\n",
        "import matplotlib.pyplot as plt\n",
        "import networkx as nx\n",
        "G=nx.Graph()\n",
        "G.root = 0\n",
        "# G est une instance de la classe Graph\n",
        "L = [(\"E\",\"B\"),(\"E\",\"F\"), (\"E\",\"H\"), (\"E\",\"I\"),(\"B\",\"A\"), (\"B\",\"C\"), (\"B\",\"D\"), (\"F\",\"G\"), (\"H\",\"J\"),(\"B\",\"E\")]\n",
        "# L représente la liste des branches de l'arbre. C'est une liste de tuples que l'on adaptera selon l'arbre.\n",
        "racine = \"E\"\n",
        "# racine stocke la clé correspondant à la racine de l'arbre (ici, c'est \"E\")\n",
        "G.add_edges_from(L)\n",
        "pos3 = hierarchy_pos(G,racine)\n",
        "\n",
        "nx.draw(G, pos=pos3, with_labels=True, font_size=15, font_family='sans-serif', node_color='white',alpha=0.9)\n",
        "\n",
        "plt.show()"
      ],
      "execution_count": null,
      "outputs": [
        {
          "output_type": "display_data",
          "data": {
            "image/png": "[encoded data removed]",
            "text/plain": [
              "<Figure size 432x288 with 1 Axes>"
            ]
          },
          "metadata": {
            "tags": []
          }
        }
      ]
    },
    {
      "cell_type": "markdown",
      "metadata": {
        "id": "oXS2Yj0mshKp"
      },
      "source": [
        "> **Travail:** completer le script de la fonction `branches`, qui, à partir d'une liste (ou tuple) imbriquée, construit une liste de branches."
      ]
    },
    {
      "cell_type": "code",
      "metadata": {
        "id": "UjqRDdTzthDQ"
      },
      "source": [
        "def branches(a, L=[]):\n",
        "    \"\"\"\n",
        "    L : list de tuples (clé père, clé fils)\n",
        "    a: list imbriquée: contient l'arbre\n",
        "    un noeud : tuple (cle,fils gauche,fils droit)\n",
        "    a[O]: clé\n",
        "    a[1]: noeud fils gauche\n",
        "    a[1][0]: clé du fils gauche\n",
        "    ... \n",
        "    \"\"\"\n",
        "    if a is None:\n",
        "        return []\n",
        "    else:\n",
        "        if not a[1] is None:\n",
        "            L.append((a[0],a[1][0]))\n",
        "            branches(a[1],L)\n",
        "        if not a[2] is None:\n",
        "            # à completer\n",
        "            L.append((a[0],a[2][0]))\n",
        "            branches(a[2],L)\n",
        "    return L\n",
        "\n"
      ],
      "execution_count": null,
      "outputs": []
    },
    {
      "cell_type": "code",
      "metadata": {
        "colab": {
          "base_uri": "https://localhost:8080/"
        },
        "id": "FgasJ0ZKhFTD",
        "outputId": "853a7c5b-1910-48d9-ea76-be2400c6a4c8"
      },
      "source": [
        "branches(arbre,[])"
      ],
      "execution_count": null,
      "outputs": [
        {
          "output_type": "execute_result",
          "data": {
            "text/plain": [
              "[('r', 'a'), ('a', 'c'), ('a', 'd'), ('r', 'b'), ('b', 'e'), ('b', 'f')]"
            ]
          },
          "metadata": {
            "tags": []
          },
          "execution_count": 52
        }
      ]
    },
    {
      "cell_type": "markdown",
      "metadata": {
        "id": "KPiKQoMZ1kyn"
      },
      "source": [
        "> **Travail:** adapter le script pour tracer l'`arbre` à partir de sa liste de branches."
      ]
    },
    {
      "cell_type": "code",
      "metadata": {
        "colab": {
          "base_uri": "https://localhost:8080/",
          "height": 319
        },
        "id": "sOgsq_6T0Okh",
        "outputId": "40515e9f-c6ca-40d0-881a-d9ffa2d8061c"
      },
      "source": [
        "G=nx.Graph()\n",
        "G.root = 0\n",
        "# G est une instance de la classe Graph\n",
        "L = branches(arbre)\n",
        "# L représente la liste des branches de l'arbre. C'est une liste de tuples que l'on adaptera selon l'arbre.\n",
        "racine = \"r\"\n",
        "# racine stocke la clé correspondant à la racine de l'arbre (ici, c'est \"E\")\n",
        "G.add_edges_from(L)\n",
        "pos3 = hierarchy_pos(G,racine)\n",
        "\n",
        "nx.draw(G, pos=pos3, with_labels=True, font_size=15, font_family='sans-serif', node_color='white',alpha=0.9)\n",
        "\n",
        "plt.show()"
      ],
      "execution_count": null,
      "outputs": [
        {
          "output_type": "display_data",
          "data": {
            "image/png": "[encoded data removed]",
            "text/plain": [
              "<Figure size 432x288 with 1 Axes>"
            ]
          },
          "metadata": {
            "tags": []
          }
        }
      ]
    },
    {
      "cell_type": "markdown",
      "metadata": {
        "id": "yUTATC_z20tT"
      },
      "source": [
        "## Parcours infixe\n",
        "> **Travail:** à l'aide de la fonction suivante: Afficher le parcours infixe de l'`arbre`."
      ]
    },
    {
      "cell_type": "code",
      "metadata": {
        "colab": {
          "base_uri": "https://localhost:8080/"
        },
        "id": "q-UFykOg2_db",
        "outputId": "67493ce5-a3db-497e-c054-88557ff3cfcd"
      },
      "source": [
        "def parcours_infixe(a):\n",
        "    if a is None:\n",
        "        return([])\n",
        "    else:\n",
        "        return parcours_infixe(a[1]) + [a[0]] + parcours_infixe(a[2])\n",
        "\n",
        "parcours_infixe(arbre)"
      ],
      "execution_count": null,
      "outputs": [
        {
          "output_type": "execute_result",
          "data": {
            "text/plain": [
              "['c', 'a', 'd', 'r', 'e', 'b', 'f']"
            ]
          },
          "metadata": {
            "tags": []
          },
          "execution_count": 13
        }
      ]
    },
    {
      "cell_type": "markdown",
      "metadata": {
        "id": "C73kMheg3dS0"
      },
      "source": [
        "**Travail:** Adapter ce script pour permettre les parcours *postfixe*, puis *prefixe* de cet arbre."
      ]
    },
    {
      "cell_type": "code",
      "metadata": {
        "id": "I_wGrxS13zcB"
      },
      "source": [
        ""
      ],
      "execution_count": null,
      "outputs": []
    },
    {
      "cell_type": "markdown",
      "metadata": {
        "id": "5Y2pyVNx3-54"
      },
      "source": [
        "# Partie 2: Graphe représenté par un dictionnaire\n",
        "Les clés du dictionnaire représentent les sommets parents, et la liste de valeurs associées seront les sommets adjacents.\n",
        "\n",
        "G est un exemple d'un tel dictionnaire:"
      ]
    },
    {
      "cell_type": "code",
      "metadata": {
        "colab": {
          "base_uri": "https://localhost:8080/"
        },
        "id": "V0VUnXFh4Z54",
        "outputId": "5f58a03b-b361-4361-dfb0-695e38f1a1b7"
      },
      "source": [
        "G = dict()\n",
        "G['a'] = ['b','c']\n",
        "G['b'] = ['c','d'] \n",
        "G['c'] = ['e','i']\n",
        "G['d'] = ['f','g'] \n",
        "G['e'] = ['h',None]\n",
        "G['f'] = [None,None]\n",
        "G['g'] = [None,None]\n",
        "G['h'] = [None,None] \n",
        "\n",
        "G"
      ],
      "execution_count": null,
      "outputs": [
        {
          "output_type": "execute_result",
          "data": {
            "text/plain": [
              "{'a': ['b', 'c'],\n",
              " 'b': ['c', 'd'],\n",
              " 'c': ['e', 'i'],\n",
              " 'd': ['f', 'g'],\n",
              " 'e': ['h', None],\n",
              " 'f': [None, None],\n",
              " 'g': [None, None],\n",
              " 'h': [None, None]}"
            ]
          },
          "metadata": {
            "tags": []
          },
          "execution_count": 16
        }
      ]
    },
    {
      "cell_type": "markdown",
      "metadata": {
        "id": "HJxh-2FQ5WMk"
      },
      "source": [
        "On souhaite créer une **matrice** pour représenter cet arbre. Pour cela, on parcourt les clés du dictionnaire. Et les valeurs de ces clés. On construit une liste d'adjacence où l'on met 1 lorsque deux noeuds sont liés, et 0 sinon.\n",
        "\n",
        "> **Travail:** Completez le script de la fonction `matrice` qui créé une matrice à partir du dictionnaire. Vous devez obtenir la matrice suivante lorsque vous testez votre fonction avec `G`:\n",
        "\n",
        "```\n",
        "[[0, 1, 1, 0, 0, 0, 0, 0],\n",
        " [0, 0, 1, 1, 0, 0, 0, 0],\n",
        " [0, 0, 0, 0, 1, 0, 0, 0],\n",
        " [0, 0, 0, 0, 0, 1, 1, 0],\n",
        " [0, 0, 0, 0, 0, 0, 0, 1],\n",
        " [0, 0, 0, 0, 0, 0, 0, 0],\n",
        " [0, 0, 0, 0, 0, 0, 0, 0],\n",
        " [0, 0, 0, 0, 0, 0, 0, 0]]\n",
        " ``` \n",
        " "
      ]
    },
    {
      "cell_type": "code",
      "metadata": {
        "colab": {
          "base_uri": "https://localhost:8080/"
        },
        "id": "PUaIPMfP6X2X",
        "outputId": "6381e03c-583d-4fb4-bafd-c5da174382a4"
      },
      "source": [
        "def matrice(dictionnaire):\n",
        "    \"\"\"\n",
        "    créé une matrice à partir d'un dictionnaire\n",
        "    Params:\n",
        "    -------\n",
        "    dictionnaire: dict, represente le graphe\n",
        "    les clés sont les sommets\n",
        "    les valeurs sont les listes de sommets liés à la clé\n",
        "    Variables:\n",
        "    ----------\n",
        "    row: list, contient des 0 ou 1\n",
        "    M: matrice d'adjacence\n",
        "    cles: list, contient les etiquettes des sommets de maniere unique\n",
        "        exemple: ['a','b','c'...]\n",
        "    \"\"\"\n",
        "    \n",
        "    cles = list(dictionnaire.keys())\n",
        "    n = len(cles)\n",
        "    M = [[0]*n for loop in range(n)]\n",
        "    for i in range(len(cles)):\n",
        "        for j in range(len(cles)):\n",
        "            \n",
        "            liste_sommets = dictionnaire[cles[i]]\n",
        "            # à compléter\n",
        "            # si cles[j] est dans la liste_sommets: \n",
        "            # mettre 1 dans la matrice au niveau de la ligne i et de la colonne j\n",
        "            if (cles[j] in liste_sommets) :\n",
        "                \n",
        "                M[i][j] = 1\n",
        "\n",
        "    return M\n",
        "        \n",
        "matrice(G)"
      ],
      "execution_count": null,
      "outputs": [
        {
          "output_type": "execute_result",
          "data": {
            "text/plain": [
              "[[0, 1, 1, 0, 0, 0, 0, 0],\n",
              " [0, 0, 1, 1, 0, 0, 0, 0],\n",
              " [0, 0, 0, 0, 1, 0, 0, 0],\n",
              " [0, 0, 0, 0, 0, 1, 1, 0],\n",
              " [0, 0, 0, 0, 0, 0, 0, 1],\n",
              " [0, 0, 0, 0, 0, 0, 0, 0],\n",
              " [0, 0, 0, 0, 0, 0, 0, 0],\n",
              " [0, 0, 0, 0, 0, 0, 0, 0]]"
            ]
          },
          "metadata": {
            "tags": []
          },
          "execution_count": 17
        }
      ]
    },
    {
      "cell_type": "markdown",
      "metadata": {
        "id": "PbQDFWZq7O5x"
      },
      "source": [
        "# Partie 3: Arbre et programmation orientée objet\n",
        "On donne la classe `ArbreBinaire` qui permettra de représenter l'arbre et de lui associer des méthodes.\n",
        "\n",
        "\n"
      ]
    },
    {
      "cell_type": "markdown",
      "metadata": {
        "id": "IQt7w4tNY8Pm"
      },
      "source": [
        "> **Travail:** Ajouter les methodes de classe `set_value`, `set_FG` et `set_FD` qui vont permettre de modifier les valeurs des attributs (respectivement `cle`, `FilsGauche` et `FilsDroit`)"
      ]
    },
    {
      "cell_type": "code",
      "metadata": {
        "id": "411MEXz-75Id"
      },
      "source": [
        "class ArbreBinaire:\n",
        "    def __init__(self,valeur):\n",
        "        self.cle = valeur\n",
        "        self.FilsGauche = None\n",
        "        self.FilsDroit = None\n",
        "        \n",
        "    def set_value(self,value):\n",
        "        self.cle = value\n",
        "        \n",
        "    def set_FG(self,FG):\n",
        "        self.FilsGauche = FG\n",
        "        \n",
        "    def set_FD(self,FD):\n",
        "        self.FilsDroit = FD\n",
        "        \n",
        "    def get_FG(self):\n",
        "        return self.FilsGauche\n",
        "    \n",
        "    def get_FD(self):\n",
        "        return self.FilsDroit\n",
        "        \n",
        "    def get_cle(self):\n",
        "        return self.cle\n",
        "    \n",
        "    def compare(self,value):\n",
        "        return not self.cle != value\n",
        "        \n",
        "    def recherche_iter(self,value):\n",
        "        A = self\n",
        "        while not A is None and A.cle != value:\n",
        "            x = A.cle\n",
        "            if value < x:\n",
        "                A = A.FilsGauche\n",
        "            else : \n",
        "                A = A.FilsDroit\n",
        "        if A == None:\n",
        "            return False\n",
        "        else:\n",
        "            return True\n",
        "        \n",
        "    def recherche_recur(self,value):\n",
        "        if self is None:\n",
        "            return False\n",
        "        else:\n",
        "            x = self.cle\n",
        "            if x == value:\n",
        "                return True\n",
        "            elif value < x and self.FilsGauche:\n",
        "                return self.FilsGauche.recherche_recur(value)\n",
        "            elif value > x and self.FilsDroit: \n",
        "                return self.FilsDroit.recherche_recur(value)\n",
        "            else : \n",
        "                return False\n",
        "            \n",
        "    def postfixe(self):\n",
        "        if self is None:\n",
        "            return\n",
        "        if not self.FilsGauche is None:\n",
        "            self.FilsGauche.postfixe()\n",
        "        if not self.FilsDroit is None:\n",
        "            self.FilsDroit.postfixe()\n",
        "        print(self.cle)\n",
        "        \n",
        "    def infixe(self):\n",
        "        if self is None:\n",
        "            return\n",
        "        if not self.FilsGauche is None:\n",
        "            self.FilsGauche.infixe()\n",
        "        print(self.cle)\n",
        "        if not self.FilsDroit is None:\n",
        "            self.FilsDroit.infixe()\n",
        "            \n",
        "    def prefixe(self):\n",
        "        if self is None:\n",
        "            return\n",
        "        print(self.cle)\n",
        "        if not self.FilsGauche is None:\n",
        "            self.FilsGauche.prefixe()\n",
        "        if not self.FilsDroit is None:\n",
        "            self.FilsDroit.prefixe()"
      ],
      "execution_count": null,
      "outputs": []
    },
    {
      "cell_type": "markdown",
      "metadata": {
        "id": "NYRLYqpPFysq"
      },
      "source": [
        "> **Travail:** Instancier les noeuds `racine`, `noeud1`, `noeud2`, ... pour représenter l'arbre de liste: \n",
        "\n",
        "```('r',('a',('c',None,None),('d',None,None)),('b',('e',None,None),('f',None,None)))```"
      ]
    },
    {
      "cell_type": "code",
      "metadata": {
        "id": "A8EMmnhZF2Wl"
      },
      "source": [
        "racine = ArbreBinaire('r')\n",
        "noeud1 = ArbreBinaire('a')\n",
        "noeud2 = ArbreBinaire('b')\n",
        "noeud3 = ArbreBinaire('c')\n",
        "noeud4 = ArbreBinaire('d')\n",
        "noeud5 = ArbreBinaire('e')\n",
        "noeud6 = ArbreBinaire('f')\n",
        "\n",
        "racine.set_FG(noeud1)\n",
        "racine.set_FD(noeud2)\n",
        "noeud1.set_FG(noeud3)\n",
        "noeud1.set_FD(noeud4)\n",
        "noeud2.set_FG(noeud5)\n",
        "noeud2.set_FD(noeud6)"
      ],
      "execution_count": null,
      "outputs": []
    },
    {
      "cell_type": "markdown",
      "metadata": {
        "id": "BnTdMJ9IF9dT"
      },
      "source": [
        "## Parcours de l'arbre en programmation objet\n",
        "La méthode de parcours infixe est donnée ci-dessous:\n",
        "\n",
        "```\n",
        "def infixe(self):\n",
        "        if self is None:\n",
        "            return\n",
        "        if not self.FilsGauche is None:\n",
        "            self.FilsGauche.infixe()\n",
        "        print(self.cle)\n",
        "        if not self.FilsDroit is None:\n",
        "            self.FilsDroit.infixe()\n",
        "```\n",
        "\n",
        "Cette methode affiche les noeuds visités selon la méthode *infixe*.\n",
        "\n",
        "> **Travail:** Ajouter cette méthode à la classe `ArbreBinaire`. Puis testez la pour afficher le parcours infixe de cet arbre. (utiliser la même cellule que celle où vous avez instancié l'arbre).\n",
        "\n",
        "> **Travail:** Adapter cette méthode pour créer celles de parours `postfixe`, et `prefixe`.\n"
      ]
    },
    {
      "cell_type": "markdown",
      "metadata": {
        "id": "KMjJc_XJG9Qr"
      },
      "source": [
        "## Un exemple d'arbre binaire de recherche (ABR)\n",
        "ABR signifie arbre binaire de recherche. C'est un arbre binaire particulier qui est construit de telle sorte que le noeud fils gauche est toujours plus petit que son noeud parent. (Et le fils droit est toujours supérieur).\n",
        "\n",
        "Vous allez créer un nouvel arbre binaire sur le modèle de celui vu en exercices (page 2):\n",
        "\n",
        "```\n",
        "abr = (8,(3,(1,None,None),(6,(4,None,None),(7,None,None))),(10,None,(14,(13,None,None),None)))\n",
        "```\n",
        "\n",
        "> **Travail:** Instancier l'arbre `abr` à l'aide de la classe `ArbreBinaire` comme vu plus haut.\n",
        "\n"
      ]
    },
    {
      "cell_type": "code",
      "metadata": {
        "colab": {
          "base_uri": "https://localhost:8080/"
        },
        "id": "et7y_3fgMikG",
        "outputId": "aabb9206-96ca-44c7-9961-d5c4b7b0cf29"
      },
      "source": [
        "racineABR = ArbreBinaire(8)\n",
        "noeud1 = ArbreBinaire(3)\n",
        "noeud2 = ArbreBinaire(10)\n",
        "noeud3 = ArbreBinaire(1)\n",
        "noeud4 = ArbreBinaire(6)\n",
        "noeud5 = ArbreBinaire(14)\n",
        "noeud6 = ArbreBinaire(4)\n",
        "noeud7 = ArbreBinaire(7)\n",
        "noeud8 = ArbreBinaire(13)\n",
        "\n",
        "\n",
        "racineABR.set_FG(noeud1)\n",
        "racineABR.set_FD(noeud2)\n",
        "noeud1.set_FG(noeud3)\n",
        "noeud1.set_FD(noeud4)\n",
        "noeud2.set_FD(noeud5)\n",
        "noeud4.set_FG(noeud6)\n",
        "noeud4.set_FD(noeud7)\n",
        "noeud5.set_FG(noeud8)\n",
        "\n",
        "def branches(a,L=[]):\n",
        "    if a is None:\n",
        "        return []\n",
        "    else:\n",
        "        if not a[1] is None:\n",
        "            L.append((a[0],a[1][0]))\n",
        "            branches(a[1],L)\n",
        "        if not a[2] is None:\n",
        "            L.append((a[0],a[2][0]))\n",
        "            branches(a[2],L)\n",
        "    return L\n",
        "\n",
        "abr = (8,(3,(1,None,None),(6,(4,None,None),(7,None,None))),(10,None,(14,(13,None,None),None)))\n",
        "L2 = branches(abr)\n",
        "L2"
      ],
      "execution_count": null,
      "outputs": [
        {
          "output_type": "execute_result",
          "data": {
            "text/plain": [
              "[(8, 3), (3, 1), (3, 6), (6, 4), (6, 7), (8, 10), (10, 14), (14, 13)]"
            ]
          },
          "metadata": {
            "tags": []
          },
          "execution_count": 3
        }
      ]
    },
    {
      "cell_type": "markdown",
      "metadata": {
        "id": "K-y-rCPrNOyk"
      },
      "source": [
        "> **Travail:** Utiliser la fonction `branches(abr)` pour générer une liste de branches. Puis tracer l'arbre avec la fonction `hierarchy_pos`."
      ]
    },
    {
      "cell_type": "code",
      "metadata": {
        "colab": {
          "base_uri": "https://localhost:8080/",
          "height": 455
        },
        "id": "jmdsh20CN1U8",
        "outputId": "fc1d085f-1980-4cd9-c45c-5c0b521689d6"
      },
      "source": [
        "G=nx.Graph()\n",
        "G.root = 0\n",
        "abr = (8,(3,(1,None,None),(6,(4,None,None),(7,None,None))),(10,None,(14,(13,None,None),None)))\n",
        "L2 = []\n",
        "L2 = branches(abr)\n",
        "racine = 8\n",
        "G.add_edges_from(L2)\n",
        "pos3 = hierarchy_pos(G,racine)\n",
        "\n",
        "nx.draw(G, pos=pos3, with_labels=True, font_size=15, font_family='sans-serif', node_color='white',alpha=0.9)\n",
        "\n",
        "plt.show()"
      ],
      "execution_count": null,
      "outputs": [
        {
          "output_type": "stream",
          "text": [
            "(8, 3)\n",
            "(3, 1)\n",
            "(3, 6)\n",
            "(6, 4)\n",
            "(6, 7)\n",
            "(8, 10)\n",
            "(10, 14)\n",
            "(14, 13)\n"
          ],
          "name": "stdout"
        },
        {
          "output_type": "display_data",
          "data": {
            "image/png": "[encoded data removed]",
            "text/plain": [
              "<Figure size 432x288 with 1 Axes>"
            ]
          },
          "metadata": {
            "tags": []
          }
        }
      ]
    },
    {
      "cell_type": "markdown",
      "metadata": {
        "id": "DhEd-JiBMH-m"
      },
      "source": [
        "## Recherche dans un ABR\n",
        "La méthode suivante permet d'effectuer une recherche dans un ABR de manière itérative (non recursive).\n",
        "\n",
        "```\n",
        "def recherche_iter(self,value):\n",
        "        A = self\n",
        "        while not A is None and A.cle != value:\n",
        "            x = A.cle\n",
        "            if value < x:\n",
        "                A = A.FilsGauche\n",
        "            else : \n",
        "                A = A.FilsDroit\n",
        "        if A == None:\n",
        "            return False\n",
        "        else:\n",
        "            return True\n",
        "```\n",
        "\n",
        "> **Travail:** Ajouter cette méthode à la classe `ArbreBinaire`. Executer à nouveau la cellule d'instancier de l'arbre `abr` (cellule precedente). Et tester l'eventuelle présence dans cet arbre du nombre **13**, puis du nombre **15**.\n"
      ]
    },
    {
      "cell_type": "code",
      "metadata": {
        "colab": {
          "base_uri": "https://localhost:8080/"
        },
        "id": "pCH59Q2_MxIp",
        "outputId": "7136c9e9-35b5-49a4-87a2-63680f7c1766"
      },
      "source": [
        "racineABR.recherche_iter(13)"
      ],
      "execution_count": null,
      "outputs": [
        {
          "output_type": "execute_result",
          "data": {
            "text/plain": [
              "True"
            ]
          },
          "metadata": {
            "tags": []
          },
          "execution_count": 4
        }
      ]
    },
    {
      "cell_type": "code",
      "metadata": {
        "colab": {
          "base_uri": "https://localhost:8080/"
        },
        "id": "aMb_p40ziizP",
        "outputId": "1d3c5bba-2856-4ece-f946-2000f2ac60cc"
      },
      "source": [
        "racineABR.recherche_iter(15)"
      ],
      "execution_count": null,
      "outputs": [
        {
          "output_type": "execute_result",
          "data": {
            "text/plain": [
              "False"
            ]
          },
          "metadata": {
            "tags": []
          },
          "execution_count": 59
        }
      ]
    },
    {
      "cell_type": "markdown",
      "metadata": {
        "id": "prWgIFcdMN4B"
      },
      "source": [
        "## Algorithme de recherche récursif\n",
        "\n",
        "Voici l'algorithme de recherche reecursif dans un *ABR*:\n",
        "\n",
        "```\n",
        "fonction recherche_recur(A,v):\n",
        "        Si A est Vide\n",
        "          retourne Faux\n",
        "        Sinon\n",
        "          x = A.cle\n",
        "          Si x == v\n",
        "            retourner Vrai\n",
        "          Sinon si v < x ET A.FilsGauche non Vide\n",
        "            retourner A.FilsGauche.recherche_recur(v)\n",
        "          Sinon si v > x ET A.FilsDroit non vide\n",
        "            retourner A.FilsDroit.recherche_recur(v)\n",
        "          Sinon\n",
        "            retourner Faux\n",
        "```\n",
        "\n",
        "\n",
        "> **Travail:** Adapter cet algorithme pour écrire la méthode de classe `recherche_recur`, que vous ajouterez à la classe `ArbreBinaire`. Testez cette méthode avec certaines valeurs, presentes ou non dans l'arbre.\n"
      ]
    },
    {
      "cell_type": "code",
      "metadata": {
        "colab": {
          "base_uri": "https://localhost:8080/"
        },
        "id": "XgPL2cd7NFmv",
        "outputId": "e4b9d634-d2f3-4d47-ad7a-5608a4d308b3"
      },
      "source": [
        "racineABR.recherche_recur(13)"
      ],
      "execution_count": null,
      "outputs": [
        {
          "output_type": "execute_result",
          "data": {
            "text/plain": [
              "True"
            ]
          },
          "metadata": {
            "tags": []
          },
          "execution_count": 56
        }
      ]
    },
    {
      "cell_type": "code",
      "metadata": {
        "colab": {
          "base_uri": "https://localhost:8080/"
        },
        "id": "m83L-im9iZkF",
        "outputId": "28c07831-0525-451a-d878-263101f3e3f1"
      },
      "source": [
        "racineABR.recherche_recur(15)"
      ],
      "execution_count": null,
      "outputs": [
        {
          "output_type": "execute_result",
          "data": {
            "text/plain": [
              "False"
            ]
          },
          "metadata": {
            "tags": []
          },
          "execution_count": 57
        }
      ]
    }
  ]
}