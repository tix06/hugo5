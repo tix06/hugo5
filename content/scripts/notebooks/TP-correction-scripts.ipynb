{
 "cells": [
  {
   "cell_type": "markdown",
   "id": "extraordinary-selling",
   "metadata": {},
   "source": [
    "# Erreur avec arrêt du programme\n",
    "Ces erreurs génèrent l'affichage du *traceback* dans la console. Ce qui permet d'aider à corriger celle-ci."
   ]
  },
  {
   "cell_type": "markdown",
   "id": "dramatic-contributor",
   "metadata": {},
   "source": [
    "## Affectation simple"
   ]
  },
  {
   "cell_type": "code",
   "execution_count": 1,
   "id": "unable-motion",
   "metadata": {},
   "outputs": [
    {
     "ename": "NameError",
     "evalue": "name 'a' is not defined",
     "output_type": "error",
     "traceback": [
      "\u001b[0;31m---------------------------------------------------------------------------\u001b[0m",
      "\u001b[0;31mNameError\u001b[0m                                 Traceback (most recent call last)",
      "\u001b[0;32m<ipython-input-1-a42f940c51ff>\u001b[0m in \u001b[0;36m<module>\u001b[0;34m\u001b[0m\n\u001b[0;32m----> 1\u001b[0;31m \u001b[0ma\u001b[0m \u001b[0;34m==\u001b[0m \u001b[0;36m10\u001b[0m\u001b[0;34m\u001b[0m\u001b[0;34m\u001b[0m\u001b[0m\n\u001b[0m",
      "\u001b[0;31mNameError\u001b[0m: name 'a' is not defined"
     ]
    }
   ],
   "source": [
    "a == 10"
   ]
  },
  {
   "cell_type": "markdown",
   "id": "robust-composer",
   "metadata": {},
   "source": [
    "## Affectation multiple\n",
    "Cette affectation multiple ne fonctionne pas, corrigez la."
   ]
  },
  {
   "cell_type": "code",
   "execution_count": 7,
   "id": "sensitive-destruction",
   "metadata": {},
   "outputs": [
    {
     "ename": "TypeError",
     "evalue": "cannot unpack non-iterable int object",
     "output_type": "error",
     "traceback": [
      "\u001b[0;31m---------------------------------------------------------------------------\u001b[0m",
      "\u001b[0;31mTypeError\u001b[0m                                 Traceback (most recent call last)",
      "\u001b[0;32m<ipython-input-7-9aefcd17cdb2>\u001b[0m in \u001b[0;36m<module>\u001b[0;34m\u001b[0m\n\u001b[0;32m----> 1\u001b[0;31m \u001b[0ma\u001b[0m\u001b[0;34m,\u001b[0m \u001b[0mb\u001b[0m \u001b[0;34m=\u001b[0m \u001b[0;36m10\u001b[0m\u001b[0;34m\u001b[0m\u001b[0;34m\u001b[0m\u001b[0m\n\u001b[0m",
      "\u001b[0;31mTypeError\u001b[0m: cannot unpack non-iterable int object"
     ]
    }
   ],
   "source": [
    "a, b = 10"
   ]
  },
  {
   "cell_type": "markdown",
   "id": "determined-classification",
   "metadata": {},
   "source": [
    "## Opérateur d'affectation mal employé\n",
    "Corriger le script suivant"
   ]
  },
  {
   "cell_type": "code",
   "execution_count": 6,
   "id": "outside-aquarium",
   "metadata": {},
   "outputs": [
    {
     "ename": "SyntaxError",
     "evalue": "invalid syntax (<ipython-input-6-de0f2a3a4723>, line 2)",
     "output_type": "error",
     "traceback": [
      "\u001b[0;36m  File \u001b[0;32m\"<ipython-input-6-de0f2a3a4723>\"\u001b[0;36m, line \u001b[0;32m2\u001b[0m\n\u001b[0;31m    if a = 0:\u001b[0m\n\u001b[0m         ^\u001b[0m\n\u001b[0;31mSyntaxError\u001b[0m\u001b[0;31m:\u001b[0m invalid syntax\n"
     ]
    }
   ],
   "source": [
    "a = 0\n",
    "if a = 0:\n",
    "    print('a est nul')"
   ]
  },
  {
   "cell_type": "markdown",
   "id": "starting-sunday",
   "metadata": {},
   "source": [
    "## Structure avec bloc\n",
    "Corrigez les scripts suivants"
   ]
  },
  {
   "cell_type": "code",
   "execution_count": 9,
   "id": "loaded-convert",
   "metadata": {},
   "outputs": [
    {
     "ename": "SyntaxError",
     "evalue": "invalid syntax (<ipython-input-9-c663b774ae97>, line 2)",
     "output_type": "error",
     "traceback": [
      "\u001b[0;36m  File \u001b[0;32m\"<ipython-input-9-c663b774ae97>\"\u001b[0;36m, line \u001b[0;32m2\u001b[0m\n\u001b[0;31m    if a < 18\u001b[0m\n\u001b[0m             ^\u001b[0m\n\u001b[0;31mSyntaxError\u001b[0m\u001b[0;31m:\u001b[0m invalid syntax\n"
     ]
    }
   ],
   "source": [
    "a = 17\n",
    "if a < 18\n",
    "print('vous n\\avez pas le droit de vote')"
   ]
  },
  {
   "cell_type": "code",
   "execution_count": 14,
   "id": "civilian-length",
   "metadata": {},
   "outputs": [
    {
     "ename": "SyntaxError",
     "evalue": "invalid syntax (<ipython-input-14-12d72cac235a>, line 1)",
     "output_type": "error",
     "traceback": [
      "\u001b[0;36m  File \u001b[0;32m\"<ipython-input-14-12d72cac235a>\"\u001b[0;36m, line \u001b[0;32m1\u001b[0m\n\u001b[0;31m    for i in range(10)\u001b[0m\n\u001b[0m                      ^\u001b[0m\n\u001b[0;31mSyntaxError\u001b[0m\u001b[0;31m:\u001b[0m invalid syntax\n"
     ]
    }
   ],
   "source": [
    "for i in range(10)\n",
    "  print(i)"
   ]
  },
  {
   "cell_type": "code",
   "execution_count": 16,
   "id": "senior-commons",
   "metadata": {},
   "outputs": [
    {
     "ename": "IndentationError",
     "evalue": "expected an indented block (<ipython-input-16-701adc0f121b>, line 3)",
     "output_type": "error",
     "traceback": [
      "\u001b[0;36m  File \u001b[0;32m\"<ipython-input-16-701adc0f121b>\"\u001b[0;36m, line \u001b[0;32m3\u001b[0m\n\u001b[0;31m    print('vous avez le bac')\u001b[0m\n\u001b[0m        ^\u001b[0m\n\u001b[0;31mIndentationError\u001b[0m\u001b[0;31m:\u001b[0m expected an indented block\n"
     ]
    }
   ],
   "source": [
    "note = 20\n",
    "if note > 10:\n",
    "print('vous avez le bac')\n",
    "else\n",
    "print('vous avez echoué')"
   ]
  },
  {
   "cell_type": "markdown",
   "id": "toxic-lexington",
   "metadata": {},
   "source": [
    "## Fonctions\n",
    "corrigez les scripts suivants"
   ]
  },
  {
   "cell_type": "code",
   "execution_count": 17,
   "id": "plastic-double",
   "metadata": {},
   "outputs": [
    {
     "ename": "SyntaxError",
     "evalue": "invalid syntax (<ipython-input-17-4c1797f3677d>, line 4)",
     "output_type": "error",
     "traceback": [
      "\u001b[0;36m  File \u001b[0;32m\"<ipython-input-17-4c1797f3677d>\"\u001b[0;36m, line \u001b[0;32m4\u001b[0m\n\u001b[0;31m    print(def aire 3,4)\u001b[0m\n\u001b[0m            ^\u001b[0m\n\u001b[0;31mSyntaxError\u001b[0m\u001b[0;31m:\u001b[0m invalid syntax\n"
     ]
    }
   ],
   "source": [
    "def aire(L,h):\n",
    "    A = L * h\n",
    "    return a\n",
    "\n",
    "print(def aire 3,4)\n",
    "print(aire 3 4)\n",
    "aire(12)"
   ]
  },
  {
   "cell_type": "code",
   "execution_count": 18,
   "id": "eligible-horse",
   "metadata": {},
   "outputs": [
    {
     "ename": "SyntaxError",
     "evalue": "invalid syntax (<ipython-input-18-82e9960f08e1>, line 1)",
     "output_type": "error",
     "traceback": [
      "\u001b[0;36m  File \u001b[0;32m\"<ipython-input-18-82e9960f08e1>\"\u001b[0;36m, line \u001b[0;32m1\u001b[0m\n\u001b[0;31m    volume(a,b,c):\u001b[0m\n\u001b[0m                  ^\u001b[0m\n\u001b[0;31mSyntaxError\u001b[0m\u001b[0;31m:\u001b[0m invalid syntax\n"
     ]
    }
   ],
   "source": [
    "volume(a,b,c):\n",
    "    return A * B * C\n",
    "\n",
    "volume(12,5,2)"
   ]
  },
  {
   "cell_type": "markdown",
   "id": "combined-assembly",
   "metadata": {},
   "source": [
    "## Chaines de caractères et entiers\n",
    "rappel: chaine de caracteres => entier : fonction `int`\n",
    "\n",
    "entier => chaine de caracteres : fonction `str`\n",
    "\n",
    "*Remarque:* Vous ne pourrez pas modifier les affectations lors de vos corrections: S'il est écrit `a = '2'` vous n'avez pas le droit d'écrire `a = 2` à la place."
   ]
  },
  {
   "cell_type": "code",
   "execution_count": 19,
   "id": "union-found",
   "metadata": {},
   "outputs": [
    {
     "ename": "TypeError",
     "evalue": "can only concatenate str (not \"int\") to str",
     "output_type": "error",
     "traceback": [
      "\u001b[0;31m---------------------------------------------------------------------------\u001b[0m",
      "\u001b[0;31mTypeError\u001b[0m                                 Traceback (most recent call last)",
      "\u001b[0;32m<ipython-input-19-53c076a69e29>\u001b[0m in \u001b[0;36m<module>\u001b[0;34m\u001b[0m\n\u001b[1;32m      2\u001b[0m \u001b[0mb\u001b[0m \u001b[0;34m=\u001b[0m \u001b[0;36m500\u001b[0m\u001b[0;34m\u001b[0m\u001b[0;34m\u001b[0m\u001b[0m\n\u001b[1;32m      3\u001b[0m \u001b[0mc\u001b[0m \u001b[0;34m=\u001b[0m \u001b[0;34m'Mais par un prompt renfort, nous vimes trois mille en arrivant'\u001b[0m\u001b[0;34m\u001b[0m\u001b[0;34m\u001b[0m\u001b[0m\n\u001b[0;32m----> 4\u001b[0;31m \u001b[0mprint\u001b[0m\u001b[0;34m(\u001b[0m\u001b[0ma\u001b[0m \u001b[0;34m+\u001b[0m \u001b[0mb\u001b[0m \u001b[0;34m+\u001b[0m \u001b[0mc\u001b[0m\u001b[0;34m)\u001b[0m\u001b[0;34m\u001b[0m\u001b[0;34m\u001b[0m\u001b[0m\n\u001b[0m",
      "\u001b[0;31mTypeError\u001b[0m: can only concatenate str (not \"int\") to str"
     ]
    }
   ],
   "source": [
    "a = 'Nous partimes à '\n",
    "b = 500\n",
    "c = 'Mais par un prompt renfort, nous nous vimes trois mille en arrivant au port'\n",
    "print(a + b + c)"
   ]
  },
  {
   "cell_type": "code",
   "execution_count": 21,
   "id": "compatible-detroit",
   "metadata": {},
   "outputs": [
    {
     "name": "stdout",
     "output_type": "stream",
     "text": [
      "23\n"
     ]
    }
   ],
   "source": [
    "# Ce script devrait afficher 2021 et il affiche ...23. Corrigez le\n",
    "a = 2\n",
    "b = '0'\n",
    "c = '21'\n",
    "print(a+int(b)+int(c))"
   ]
  },
  {
   "cell_type": "code",
   "execution_count": 22,
   "id": "advised-roommate",
   "metadata": {},
   "outputs": [
    {
     "ename": "TypeError",
     "evalue": "unsupported operand type(s) for /: 'int' and 'str'",
     "output_type": "error",
     "traceback": [
      "\u001b[0;31m---------------------------------------------------------------------------\u001b[0m",
      "\u001b[0;31mTypeError\u001b[0m                                 Traceback (most recent call last)",
      "\u001b[0;32m<ipython-input-22-8c65e710908a>\u001b[0m in \u001b[0;36m<module>\u001b[0;34m\u001b[0m\n\u001b[1;32m      1\u001b[0m \u001b[0ma\u001b[0m \u001b[0;34m=\u001b[0m \u001b[0;36m18\u001b[0m\u001b[0;34m\u001b[0m\u001b[0;34m\u001b[0m\u001b[0m\n\u001b[1;32m      2\u001b[0m \u001b[0mb\u001b[0m \u001b[0;34m=\u001b[0m \u001b[0;34m'2'\u001b[0m\u001b[0;34m\u001b[0m\u001b[0;34m\u001b[0m\u001b[0m\n\u001b[0;32m----> 3\u001b[0;31m \u001b[0mprint\u001b[0m\u001b[0;34m(\u001b[0m\u001b[0ma\u001b[0m\u001b[0;34m/\u001b[0m\u001b[0mb\u001b[0m\u001b[0;34m)\u001b[0m\u001b[0;34m\u001b[0m\u001b[0;34m\u001b[0m\u001b[0m\n\u001b[0m",
      "\u001b[0;31mTypeError\u001b[0m: unsupported operand type(s) for /: 'int' and 'str'"
     ]
    }
   ],
   "source": [
    "a = 18\n",
    "b = '2'\n",
    "print(a/b)"
   ]
  },
  {
   "cell_type": "markdown",
   "id": "comic-victor",
   "metadata": {},
   "source": [
    "On souhaite afficher tous les nombres de 0 à 7, comment faut-il corriger le script pour y parvenir?"
   ]
  },
  {
   "cell_type": "code",
   "execution_count": 26,
   "id": "signal-yellow",
   "metadata": {},
   "outputs": [
    {
     "name": "stdout",
     "output_type": "stream",
     "text": [
      "i\n",
      "i\n",
      "i\n",
      "i\n",
      "i\n",
      "i\n",
      "i\n"
     ]
    }
   ],
   "source": [
    "for i in range(7):\n",
    "    print('i')"
   ]
  },
  {
   "cell_type": "markdown",
   "id": "under-issue",
   "metadata": {},
   "source": [
    "On souhaite afficher à chacun des appels de la fonction `bonjour` le message: *Bonjour Paul*. Corriger les instructions proposées dans ce script. Il devra y avoir 2 manières différentes pour afficher ce message, inspirées des 5 appels de la fonction ci-dessous."
   ]
  },
  {
   "cell_type": "code",
   "execution_count": 28,
   "id": "russian-accommodation",
   "metadata": {},
   "outputs": [
    {
     "ename": "NameError",
     "evalue": "name 'Paul' is not defined",
     "output_type": "error",
     "traceback": [
      "\u001b[0;31m---------------------------------------------------------------------------\u001b[0m",
      "\u001b[0;31mNameError\u001b[0m                                 Traceback (most recent call last)",
      "\u001b[0;32m<ipython-input-28-e251e64eb038>\u001b[0m in \u001b[0;36m<module>\u001b[0;34m\u001b[0m\n\u001b[1;32m      3\u001b[0m     \u001b[0;32mreturn\u001b[0m \u001b[0;34m'bonjour '\u001b[0m \u001b[0;34m+\u001b[0m \u001b[0mname\u001b[0m\u001b[0;34m\u001b[0m\u001b[0;34m\u001b[0m\u001b[0m\n\u001b[1;32m      4\u001b[0m \u001b[0;34m\u001b[0m\u001b[0m\n\u001b[0;32m----> 5\u001b[0;31m \u001b[0mprint\u001b[0m\u001b[0;34m(\u001b[0m\u001b[0mbonjour\u001b[0m\u001b[0;34m(\u001b[0m\u001b[0mPaul\u001b[0m\u001b[0;34m)\u001b[0m\u001b[0;34m)\u001b[0m\u001b[0;34m\u001b[0m\u001b[0;34m\u001b[0m\u001b[0m\n\u001b[0m\u001b[1;32m      6\u001b[0m \u001b[0mprint\u001b[0m\u001b[0;34m(\u001b[0m\u001b[0mbonjour\u001b[0m\u001b[0;34m(\u001b[0m\u001b[0;34m'prenom'\u001b[0m\u001b[0;34m)\u001b[0m\u001b[0;34m)\u001b[0m\u001b[0;34m\u001b[0m\u001b[0;34m\u001b[0m\u001b[0m\n\u001b[1;32m      7\u001b[0m \u001b[0mprint\u001b[0m\u001b[0;34m(\u001b[0m\u001b[0mbonjour\u001b[0m\u001b[0;34m(\u001b[0m\u001b[0;34m'name'\u001b[0m\u001b[0;34m)\u001b[0m\u001b[0;34m)\u001b[0m\u001b[0;34m\u001b[0m\u001b[0;34m\u001b[0m\u001b[0m\n",
      "\u001b[0;31mNameError\u001b[0m: name 'Paul' is not defined"
     ]
    }
   ],
   "source": [
    "prenom = 'Paul'\n",
    "def bonjour(name):\n",
    "    return 'bonjour ' + name\n",
    "\n",
    "print(bonjour(Paul))\n",
    "print(bonjour('prenom'))\n",
    "print(bonjour('name'))\n",
    "print(bonjour(name))\n",
    "print(bonjour())"
   ]
  },
  {
   "cell_type": "markdown",
   "id": "blank-gnome",
   "metadata": {},
   "source": [
    "## Import de module\n",
    "On rappelle que le module `math` s'importe avec l'instruction: `import math`\n",
    "\n",
    "pi est une constante du module `math` et s'appelle avec `math.pi` UNE FOIS le module importé.\n",
    "\n",
    "`sin` est une fonction du module `math` et s'appelle avec `math.sin` "
   ]
  },
  {
   "cell_type": "code",
   "execution_count": 23,
   "id": "official-draft",
   "metadata": {},
   "outputs": [
    {
     "ename": "NameError",
     "evalue": "name 'pi' is not defined",
     "output_type": "error",
     "traceback": [
      "\u001b[0;31m---------------------------------------------------------------------------\u001b[0m",
      "\u001b[0;31mNameError\u001b[0m                                 Traceback (most recent call last)",
      "\u001b[0;32m<ipython-input-23-fc3e09122c50>\u001b[0m in \u001b[0;36m<module>\u001b[0;34m\u001b[0m\n\u001b[1;32m      1\u001b[0m \u001b[0mR\u001b[0m \u001b[0;34m=\u001b[0m \u001b[0;36m1\u001b[0m\u001b[0;34m\u001b[0m\u001b[0;34m\u001b[0m\u001b[0m\n\u001b[0;32m----> 2\u001b[0;31m \u001b[0mL\u001b[0m \u001b[0;34m=\u001b[0m \u001b[0;36m2\u001b[0m \u001b[0;34m*\u001b[0m \u001b[0mpi\u001b[0m \u001b[0;34m*\u001b[0m \u001b[0mR\u001b[0m\u001b[0;34m\u001b[0m\u001b[0;34m\u001b[0m\u001b[0m\n\u001b[0m",
      "\u001b[0;31mNameError\u001b[0m: name 'pi' is not defined"
     ]
    }
   ],
   "source": [
    "R = 1\n",
    "L = 2 * pi * R"
   ]
  },
  {
   "cell_type": "code",
   "execution_count": 25,
   "id": "great-reading",
   "metadata": {},
   "outputs": [
    {
     "ename": "NameError",
     "evalue": "name 'sin' is not defined",
     "output_type": "error",
     "traceback": [
      "\u001b[0;31m---------------------------------------------------------------------------\u001b[0m",
      "\u001b[0;31mNameError\u001b[0m                                 Traceback (most recent call last)",
      "\u001b[0;32m<ipython-input-25-6b324bcacc51>\u001b[0m in \u001b[0;36m<module>\u001b[0;34m\u001b[0m\n\u001b[1;32m      1\u001b[0m \u001b[0mangle\u001b[0m \u001b[0;34m=\u001b[0m \u001b[0;36m30\u001b[0m\u001b[0;34m\u001b[0m\u001b[0;34m\u001b[0m\u001b[0m\n\u001b[1;32m      2\u001b[0m \u001b[0mradian\u001b[0m \u001b[0;34m=\u001b[0m \u001b[0mangle\u001b[0m \u001b[0;34m*\u001b[0m \u001b[0mmath\u001b[0m\u001b[0;34m.\u001b[0m\u001b[0mpi\u001b[0m\u001b[0;34m/\u001b[0m\u001b[0;36m180\u001b[0m\u001b[0;34m\u001b[0m\u001b[0;34m\u001b[0m\u001b[0m\n\u001b[0;32m----> 3\u001b[0;31m \u001b[0msin\u001b[0m\u001b[0;34m(\u001b[0m\u001b[0mradian\u001b[0m\u001b[0;34m)\u001b[0m\u001b[0;34m\u001b[0m\u001b[0;34m\u001b[0m\u001b[0m\n\u001b[0m",
      "\u001b[0;31mNameError\u001b[0m: name 'sin' is not defined"
     ]
    }
   ],
   "source": [
    "angle = 30\n",
    "radian = angle * math.pi/180\n",
    "sin(radian)"
   ]
  },
  {
   "cell_type": "markdown",
   "id": "charged-attitude",
   "metadata": {},
   "source": [
    "# Erreur de structure \n",
    "Ces erreurs entrainent un fonctionnement du programme différent de ce qui est attendu. Leur recherche et correction est souvent plus difficile."
   ]
  },
  {
   "cell_type": "markdown",
   "id": "placed-chase",
   "metadata": {},
   "source": [
    "## Problème 1: Structure conditionnelle\n",
    "On souaiterai que le programme affiche:\n",
    "\n",
    "```\n",
    "vous avez 0 ans, vous êtes à la crêche\n",
    "vous avez 1 ans, vous êtes à la crêche\n",
    "vous avez 2 ans, vous êtes à la crêche\n",
    "vous avez 3 ans, vous êtes en primaire\n",
    "vous avez 4 ans, vous êtes en primaire\n",
    "vous avez 5 ans, vous êtes en primaire\n",
    "vous avez 6 ans, vous êtes en élémentaire\n",
    "vous avez 7 ans, vous êtes en élémentaire\n",
    "vous avez 8 ans, vous êtes en élémentaire\n",
    "vous avez 9 ans, vous êtes en élémentaire\n",
    "vous avez 10 ans, vous êtes en élémentaire\n",
    "vous avez 11 ans, vous êtes en élémentaire\n",
    "vous avez 12 ans, vous êtes au collège\n",
    "```\n",
    "\n",
    "Le script suivant devrait avantageusement utiliser les structures conditionnlles avec alternatives pour parvenir à cet affichage. Corrigez le."
   ]
  },
  {
   "cell_type": "code",
   "execution_count": 36,
   "id": "labeled-designation",
   "metadata": {},
   "outputs": [
    {
     "name": "stdout",
     "output_type": "stream",
     "text": [
      "vous avez 0 ans, vous êtes à la crêche\n",
      "vous avez 0 ans, vous êtes en primaire\n",
      "vous avez 0 ans, vous êtes en élémentaire\n",
      "vous avez 0 ans, vous êtes au collège\n",
      "vous avez 1 ans, vous êtes à la crêche\n",
      "vous avez 1 ans, vous êtes en primaire\n",
      "vous avez 1 ans, vous êtes en élémentaire\n",
      "vous avez 1 ans, vous êtes au collège\n",
      "vous avez 2 ans, vous êtes à la crêche\n",
      "vous avez 2 ans, vous êtes en primaire\n",
      "vous avez 2 ans, vous êtes en élémentaire\n",
      "vous avez 2 ans, vous êtes au collège\n",
      "vous avez 3 ans, vous êtes en primaire\n",
      "vous avez 3 ans, vous êtes en élémentaire\n",
      "vous avez 3 ans, vous êtes au collège\n",
      "vous avez 4 ans, vous êtes en primaire\n",
      "vous avez 4 ans, vous êtes en élémentaire\n",
      "vous avez 4 ans, vous êtes au collège\n",
      "vous avez 5 ans, vous êtes en primaire\n",
      "vous avez 5 ans, vous êtes en élémentaire\n",
      "vous avez 5 ans, vous êtes au collège\n",
      "vous avez 6 ans, vous êtes en élémentaire\n",
      "vous avez 6 ans, vous êtes au collège\n",
      "vous avez 7 ans, vous êtes en élémentaire\n",
      "vous avez 7 ans, vous êtes au collège\n",
      "vous avez 8 ans, vous êtes en élémentaire\n",
      "vous avez 8 ans, vous êtes au collège\n",
      "vous avez 9 ans, vous êtes en élémentaire\n",
      "vous avez 9 ans, vous êtes au collège\n",
      "vous avez 10 ans, vous êtes en élémentaire\n",
      "vous avez 10 ans, vous êtes au collège\n",
      "vous avez 11 ans, vous êtes en élémentaire\n",
      "vous avez 11 ans, vous êtes au collège\n",
      "vous avez 12 ans, vous êtes au collège\n"
     ]
    }
   ],
   "source": [
    "for age in range(13):\n",
    "    if age < 3:\n",
    "        print('vous avez ' + str(age)+ ' ans, vous êtes à la crêche')\n",
    "    if age < 6:\n",
    "        print('vous avez ' + str(age)+ ' ans, vous êtes en primaire')\n",
    "    if age < 12:\n",
    "        print('vous avez ' + str(age)+ ' ans, vous êtes en élémentaire')\n",
    "    if age < 16:\n",
    "        print('vous avez ' + str(age)+ ' ans, vous êtes au collège')"
   ]
  },
  {
   "cell_type": "markdown",
   "id": "champion-denver",
   "metadata": {},
   "source": [
    "## Problème 2: Utiliser l'operateur % ou l'opérateur //"
   ]
  },
  {
   "cell_type": "markdown",
   "id": "biological-handbook",
   "metadata": {},
   "source": [
    "On cherche à numéroter les jours du mois. On suppose que l'année ne contient que des mois de 30 jours. L'affichage doit être:\n",
    "\n",
    "```\n",
    "debut\n",
    "jour n°1\n",
    "jour n°2\n",
    "...\n",
    "jour n°30\n",
    "jour n°1\n",
    "...\n",
    "jour n°10\n",
    "fin\n",
    "```\n",
    "\n",
    "Modifier le programme pour qu'il affiche la bonne sequence. Les mots *debut* et *fin* ne devront être affichés qu'en debut et fin de sequence."
   ]
  },
  {
   "cell_type": "code",
   "execution_count": 29,
   "id": "matched-sullivan",
   "metadata": {},
   "outputs": [
    {
     "name": "stdout",
     "output_type": "stream",
     "text": [
      "debut\n",
      "0\n",
      "fin\n",
      "debut\n",
      "0\n",
      "fin\n",
      "debut\n",
      "0\n",
      "fin\n",
      "debut\n",
      "0\n",
      "fin\n",
      "debut\n",
      "0\n",
      "fin\n",
      "debut\n",
      "0\n",
      "fin\n",
      "debut\n",
      "0\n",
      "fin\n",
      "debut\n",
      "0\n",
      "fin\n",
      "debut\n",
      "0\n",
      "fin\n",
      "debut\n",
      "0\n",
      "fin\n",
      "debut\n",
      "0\n",
      "fin\n",
      "debut\n",
      "0\n",
      "fin\n",
      "debut\n",
      "0\n",
      "fin\n",
      "debut\n",
      "0\n",
      "fin\n",
      "debut\n",
      "0\n",
      "fin\n",
      "debut\n",
      "0\n",
      "fin\n",
      "debut\n",
      "0\n",
      "fin\n",
      "debut\n",
      "0\n",
      "fin\n",
      "debut\n",
      "0\n",
      "fin\n",
      "debut\n",
      "0\n",
      "fin\n",
      "debut\n",
      "0\n",
      "fin\n",
      "debut\n",
      "0\n",
      "fin\n",
      "debut\n",
      "0\n",
      "fin\n",
      "debut\n",
      "0\n",
      "fin\n",
      "debut\n",
      "0\n",
      "fin\n",
      "debut\n",
      "0\n",
      "fin\n",
      "debut\n",
      "0\n",
      "fin\n",
      "debut\n",
      "0\n",
      "fin\n",
      "debut\n",
      "0\n",
      "fin\n",
      "debut\n",
      "0\n",
      "fin\n",
      "debut\n",
      "1\n",
      "fin\n",
      "debut\n",
      "1\n",
      "fin\n",
      "debut\n",
      "1\n",
      "fin\n",
      "debut\n",
      "1\n",
      "fin\n",
      "debut\n",
      "1\n",
      "fin\n",
      "debut\n",
      "1\n",
      "fin\n",
      "debut\n",
      "1\n",
      "fin\n",
      "debut\n",
      "1\n",
      "fin\n",
      "debut\n",
      "1\n",
      "fin\n",
      "debut\n",
      "1\n",
      "fin\n",
      "debut\n",
      "1\n",
      "fin\n"
     ]
    }
   ],
   "source": [
    "for i in range(41):\n",
    "    print('debut')\n",
    "    print(i//30)\n",
    "    print('fin')"
   ]
  },
  {
   "cell_type": "markdown",
   "id": "specific-qualification",
   "metadata": {},
   "source": [
    "## Problème 3: \n",
    "corriger la fonction suivante pour qu'elle retourne bien la valeur **30**° lorsqu'on l'appelle avec `arcsin(0.5)`\n",
    "\n",
    "*Rappel:* \n",
    "\n",
    "$$angle_{deg} = \\tfrac{angle_{radian}*180}{PI}$$"
   ]
  },
  {
   "cell_type": "code",
   "execution_count": 34,
   "id": "furnished-discharge",
   "metadata": {},
   "outputs": [
    {
     "data": {
      "text/plain": [
       "0.5235987755982988"
      ]
     },
     "execution_count": 34,
     "metadata": {},
     "output_type": "execute_result"
    }
   ],
   "source": [
    "import math\n",
    "sinus_de_l_angle = 0.5\n",
    "def arcsin(x):\n",
    "    \"\"\"calcule angle à partir de son sinus\"\"\"\n",
    "    a = math.asin(x)\n",
    "    return a \n",
    "\n",
    "arcsin(sinus_de_l_angle)"
   ]
  },
  {
   "cell_type": "code",
   "execution_count": null,
   "id": "turned-lebanon",
   "metadata": {},
   "outputs": [],
   "source": []
  },
  {
   "cell_type": "code",
   "execution_count": null,
   "id": "emerging-stomach",
   "metadata": {},
   "outputs": [],
   "source": []
  }
 ],
 "metadata": {
  "kernelspec": {
   "display_name": "Python 3",
   "language": "python",
   "name": "python3"
  },
  "language_info": {
   "codemirror_mode": {
    "name": "ipython",
    "version": 3
   },
   "file_extension": ".py",
   "mimetype": "text/x-python",
   "name": "python",
   "nbconvert_exporter": "python",
   "pygments_lexer": "ipython3",
   "version": "3.7.9"
  }
 },
 "nbformat": 4,
 "nbformat_minor": 5
}
