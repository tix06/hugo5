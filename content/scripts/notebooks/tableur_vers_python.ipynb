{
 "cells": [
  {
   "cell_type": "markdown",
   "id": "9b20e9f0",
   "metadata": {},
   "source": [
    "# PARTIE 1"
   ]
  },
  {
   "cell_type": "markdown",
   "id": "ddb55983",
   "metadata": {},
   "source": [
    "## Liste Python\n",
    "On souhaite faire un traitement python sur les notes obtenues au cours des 2 premiers trimestres.\n",
    "Créer une liste et mettre les valeurs 10, 8.9, 9.9, 12.3, 11.1\n",
    "\n",
    "Ecrire: \n",
    "\n",
    "`notes = [10, 8.9, 9.9, 12.3, 11.1]`\n",
    "\n",
    "Afficher L"
   ]
  },
  {
   "cell_type": "code",
   "execution_count": null,
   "id": "568507e0",
   "metadata": {},
   "outputs": [],
   "source": []
  },
  {
   "cell_type": "markdown",
   "id": "c78cdc01",
   "metadata": {},
   "source": [
    "## Ajouter des valeurs\n",
    "Ajouter maintenant les notes obtenues lors de la période du 3e trimestre: 12.3, 13.1, 14.5, 20\n",
    "\n",
    "On utilise la méthode de liste `append`: par exemple, `notes.append(12.3)`\n",
    "\n",
    "A la fin, afficher `notes`."
   ]
  },
  {
   "cell_type": "code",
   "execution_count": null,
   "id": "d200a655",
   "metadata": {},
   "outputs": [],
   "source": []
  },
  {
   "cell_type": "markdown",
   "id": "dba25d79",
   "metadata": {},
   "source": [
    "## Somme\n",
    "Le calcul de la somme des éléments necessite d'utiliser une boucle bornée et accumuler les valeurs dans une variable, que l'on nomme par exemple, `s`.\n",
    "\n",
    "Dans une fonction que vous appelerez `somme`: Définir une variable `s` que vous mettrez à 0.\n",
    "\n",
    "A l'aide d'une boucle bornée, parcourir les éléments de la liste, et ajouter chaque valeur à `s`.\n",
    "\n",
    "Retourner `s`\n",
    "\n"
   ]
  },
  {
   "cell_type": "code",
   "execution_count": null,
   "id": "dd377869",
   "metadata": {},
   "outputs": [],
   "source": [
    "def somme(tab):\n",
    "    s = 0\n",
    "    # a completer"
   ]
  },
  {
   "cell_type": "markdown",
   "id": "1b67a127",
   "metadata": {},
   "source": [
    "## Moyenne\n",
    "Le calcul de la moyenne se fait en ajoutant toutes les valeurs, et en divisant par le nombre de notes\n",
    "\n",
    "Ecrire le script de la fonction `moyenne`, et calculer la somme `s`, puis la moyenne des valeurs de `notes`\n",
    "\n",
    "\n",
    "\n",
    "*Aide:* On utilisera la fonction `len(notes)` qui retourne le nombre d'éléments de `notes`.\n",
    "\n",
    "La fonction `moyenne` va alors retourner $s / len(tab)$"
   ]
  },
  {
   "cell_type": "code",
   "execution_count": null,
   "id": "c308836c",
   "metadata": {},
   "outputs": [],
   "source": [
    "def moyenne(tab):\n",
    "    s = 0\n",
    "    # a completer"
   ]
  },
  {
   "cell_type": "markdown",
   "id": "fdca1abc",
   "metadata": {},
   "source": [
    "## Max\n",
    "Dans une fonction `max`. On affecte à la variable `m` la première valeur de la liste. On parcours ensuite les éléments `e`, un par un, à l'aide d'une boucle bornée.\n",
    "\n",
    "Si l'élément `e` est supérieur à `m`, on affecte à `m` la valeur `e`.\n",
    "\n",
    "A la fin de la boucle, on retourne la valeur `m`.\n",
    "\n",
    "Tester ensuite:\n",
    "\n",
    "```\n",
    "max(notes)\n",
    "```"
   ]
  },
  {
   "cell_type": "code",
   "execution_count": null,
   "id": "cce36204",
   "metadata": {},
   "outputs": [],
   "source": [
    "def max(tab):\n",
    "    m = tab[0]\n",
    "    # a completer\n",
    "    \n"
   ]
  },
  {
   "cell_type": "markdown",
   "id": "466aadb2",
   "metadata": {},
   "source": [
    "## Min\n",
    "adapter le script précedent pour rechercher le minimum dans la liste `notes`"
   ]
  },
  {
   "cell_type": "code",
   "execution_count": null,
   "id": "462efd40",
   "metadata": {},
   "outputs": [],
   "source": []
  },
  {
   "cell_type": "markdown",
   "id": "fb81cf2e",
   "metadata": {},
   "source": [
    "## indice du max\n",
    "On cherche l'indice de la position de la valeur max dans une liste. On utilise le script de la fonction `max`, mais cette fois, la boucle bornée se fait sur les indices et non les valeurs de `tab`:\n",
    "\n",
    "```\n",
    "for i in range(len(tab)):\n",
    "...\n",
    "```\n",
    "\n",
    "On retourne l'indice de la plus grande valeur, `indice_max`\n",
    "\n",
    "*Exemple:*\n",
    "\n",
    "```\n",
    ">>> indice_du_max(notes)\n",
    "8\n",
    "```\n"
   ]
  },
  {
   "cell_type": "code",
   "execution_count": null,
   "id": "ffed8893",
   "metadata": {},
   "outputs": [],
   "source": [
    "def indice_du_max(tab):\n",
    "    m = tab[0]\n",
    "    indice_max = 0\n",
    "    for i in range(len(tab)):\n",
    "        # a completer"
   ]
  },
  {
   "cell_type": "markdown",
   "id": "ee771d31",
   "metadata": {},
   "source": [
    "## nombre d'occurences\n",
    "On cherche à compter le nombre de notes supérieures ou egales à la moyenne 10. Pour cela, on utilise une variable `n` que l'on met à zero en debut de script. Puis à l'aide d'une boucle bornée, on parcourt les éléments de la liste `tab`. Chaque fois que la valeur de `e` est supérieure ou egal à 10.0, on incrémente `n` d'une unité. \n",
    "\n",
    "On retourne enfin la valeur `n`."
   ]
  },
  {
   "cell_type": "code",
   "execution_count": null,
   "id": "878e187c",
   "metadata": {},
   "outputs": [],
   "source": [
    "def nombre_sup_moyenne(tab):\n",
    "    n = 0\n",
    "    # a completer"
   ]
  },
  {
   "cell_type": "markdown",
   "id": "7f7fed63",
   "metadata": {},
   "source": [
    "## Rechercher un 20\n",
    "On recherche la présence eventuelle d'une note egale à 20 dans la liste `notes`. Le parcours de la liste se fera à l'aide d'une boucle bornée, avec pour variant, le rang `i` de l'élément de liste: `for i in range(len(tab)):`\n",
    "\n",
    "Si l'élément de liste `tab[i]` vaut 20, ou 20.0, retourner alors l'index `i`.\n",
    "\n",
    "Sinon, retourner -1.\n",
    "\n",
    "*Exemple:*\n",
    "\n",
    "```\n",
    "recherche_20(notes)\n",
    "# Affiche 8\n",
    "```"
   ]
  },
  {
   "cell_type": "code",
   "execution_count": null,
   "id": "f7f28873",
   "metadata": {},
   "outputs": [],
   "source": [
    "def recherche_20(tab):\n",
    "    for i in range(len(tab)):\n",
    "        # a completer"
   ]
  },
  {
   "cell_type": "markdown",
   "id": "07eb80ae",
   "metadata": {},
   "source": [
    "## Rechercher n'importe quelle valeur\n",
    "La fonction possède maintenant 2 paramètres: `tab`, la liste de notes, et `val`, la valeur recherchée.\n",
    "\n",
    "Adapter le script précédent pour rechercher le rang de la valeur `val` si celle-ci se trouve dans la liste `tab`\n",
    "\n",
    "*Exemple:*\n",
    "\n",
    "```\n",
    "recherche(notes, 20)\n",
    "# Affiche 8\n",
    "recherche(notes, 19)\n",
    "# Affiche -1\n",
    "```"
   ]
  },
  {
   "cell_type": "code",
   "execution_count": null,
   "id": "0691e6ea",
   "metadata": {},
   "outputs": [],
   "source": []
  },
  {
   "cell_type": "markdown",
   "id": "b5c5118b",
   "metadata": {},
   "source": [
    "# PARTIE 2"
   ]
  },
  {
   "cell_type": "markdown",
   "id": "2cd74ca5",
   "metadata": {},
   "source": [
    "## Analyse de donnees issues de classe.csv\n",
    "\n",
    "Ouvrir le fichier `classe.csv` avec la fonction `open` en python. Attention, adapter le chemin vers le fichier selon la position de celui-ci:\n",
    "\n",
    "Si le fichier est dans le même dossier que le notebook, il faudra écrire: \n",
    "\n",
    "```\n",
    "with open('classe.csv', newline='') as csvfile:\n",
    "```\n",
    "\n",
    "à la place de:\n",
    "\n",
    "```\n",
    "with open('datas/classe.csv', newline='') as csvfile:\n",
    "```\n"
   ]
  },
  {
   "cell_type": "code",
   "execution_count": null,
   "id": "ca5c43ed",
   "metadata": {},
   "outputs": [],
   "source": [
    "import csv\n",
    "with open('datas/classe.csv', newline='') as csvfile:\n",
    "    spamreader = csv.reader(csvfile, delimiter = \";\")\n",
    "    classe = []\n",
    "    for row in spamreader:\n",
    "        classe.append(row)\n",
    "print(classe[:5])"
   ]
  },
  {
   "cell_type": "markdown",
   "id": "448113bc",
   "metadata": {},
   "source": [
    "Les données sont alors mises dans un tableau python. Il s'agit d'une liste de sous-listes. Avec une sous-liste par élève. Le format numérique de Excel place une virgule ',' comme separateur des réels. \n",
    "\n",
    "> Executer la cellule suivante pour remplacer les ',' par des points '.'"
   ]
  },
  {
   "cell_type": "code",
   "execution_count": null,
   "id": "347743c7",
   "metadata": {},
   "outputs": [],
   "source": [
    "def remplacer(tab):\n",
    "    for i in range(1,len(tab)):\n",
    "        for j in range(2,len(tab[i])):\n",
    "            old = tab[i][j]\n",
    "            tab[i][j] = float(old.replace(',','.'))\n",
    "\n",
    "remplacer(classe)\n",
    "print(classe[:5])"
   ]
  },
  {
   "cell_type": "markdown",
   "id": "3e45cb90",
   "metadata": {},
   "source": [
    "## Calcul de la moyenne\n",
    "Pour chaque élève, vous allez calculer la moyenne de ses notes à l'aide de votre fonction `moyenne` définie plus haut.\n",
    "\n",
    "Utiliser une boucle bornée sur les indices de la liste `classe`. On commence à l'indice 1 car la premiere ligne ne contient pas d'élève:\n",
    "\n",
    "```\n",
    "for i in range(1,len(classe)):\n",
    "```\n",
    "\n",
    "on calcule alors la valeur moyenne sur les notes, qui commencent à l'indice 2:\n",
    "\n",
    "```\n",
    "eleve = classe[i]\n",
    "moyenne(eleve[2:])\n",
    "```\n",
    "\n",
    "On arrondi cette valeur avec 2 décimales:\n",
    "\n",
    "```\n",
    "round(moyenne(eleve[2:]),2)\n",
    "```\n",
    "\n",
    "On place cette valeur dans la deuxieme colonne,`eleve[1]`, comme dans le tableau Excel.\n",
    "\n",
    "> Completer le script\n"
   ]
  },
  {
   "cell_type": "code",
   "execution_count": null,
   "id": "cdbc15d4",
   "metadata": {},
   "outputs": [],
   "source": [
    "for i in range(1,len(classe)):\n",
    "    eleve = classe[i]\n",
    "    # a completer\n",
    "print(classe[:5])"
   ]
  },
  {
   "cell_type": "markdown",
   "id": "e228eb8a",
   "metadata": {},
   "source": [
    "## Recherche de la note max pour chaque eleve\n",
    "La fonction suivante est une adaptation de celle écrite plus haut. On y a ajouté 2 paramètres pour reduire la recherche de la note max entre 2 indice, `debut` et `fin`."
   ]
  },
  {
   "cell_type": "code",
   "execution_count": null,
   "id": "6f8875c6",
   "metadata": {},
   "outputs": [],
   "source": [
    "def indice_du_max(tab,debut,fin):\n",
    "    \"\"\"\n",
    "    recherche de l'indice de la valeur max dans une liste tab\n",
    "    @params\n",
    "    tab: list\n",
    "    debut: int, indice de note1 dans la liste\n",
    "    fin: indice de la derniere note dans la liste\n",
    "    @return\n",
    "    indice_max: int\"\"\"\n",
    "    m = tab[debut]\n",
    "    indice_max = debut\n",
    "    for i in range(debut,fin+1):\n",
    "        if tab[i] > m:\n",
    "            m = tab[i]\n",
    "            indice_max = i\n",
    "    return indice_max"
   ]
  },
  {
   "cell_type": "markdown",
   "id": "15c79e40",
   "metadata": {},
   "source": [
    "> Ecrire un script qui parcourt tous les eleves de la liste `classe`, et écrit:\n",
    "\n",
    "numero de l'eleve, l'indice de la note max, la note max\n",
    "\n",
    "*Exemple:*\n",
    "\n",
    "```\n",
    "eleve  1 : 10 20.0\n",
    "eleve  2 : 6 19.6\n",
    "eleve  3 : 5 19.7\n",
    "eleve  4 : 2 16.4\n",
    "...\n",
    "```\n",
    "\n"
   ]
  },
  {
   "cell_type": "code",
   "execution_count": null,
   "id": "3b2c7c5d",
   "metadata": {},
   "outputs": [],
   "source": [
    "for i in range(1,len(classe[:5])):\n",
    "    eleve = classe[i]\n",
    "    # a completer\n",
    "    print('eleve ', i, ':',i_max, eleve[i_max])"
   ]
  },
  {
   "cell_type": "code",
   "execution_count": null,
   "id": "ef5ddb4c",
   "metadata": {},
   "outputs": [],
   "source": []
  },
  {
   "cell_type": "code",
   "execution_count": null,
   "id": "ee6f8a83",
   "metadata": {},
   "outputs": [],
   "source": []
  }
 ],
 "metadata": {
  "kernelspec": {
   "display_name": "Python 3 (ipykernel)",
   "language": "python",
   "name": "python3"
  },
  "language_info": {
   "codemirror_mode": {
    "name": "ipython",
    "version": 3
   },
   "file_extension": ".py",
   "mimetype": "text/x-python",
   "name": "python",
   "nbconvert_exporter": "python",
   "pygments_lexer": "ipython3",
   "version": "3.7.9"
  }
 },
 "nbformat": 4,
 "nbformat_minor": 5
}
