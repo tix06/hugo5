{
 "cells": [
  {
   "cell_type": "markdown",
   "metadata": {
    "id": "R2Wiz9z2pgXG"
   },
   "source": [
    "# Partie 1: Arbre en liste imbriquée\n",
    "L'arbre suivant est représenté par une liste imbriquée (ou plutôt un tuple imbriqué): \n",
    "\n",
    "```arbre = ('r',('a',('c',None,None),('d',None,None)),('b',('e',None,None),('f',None,None)))```\n",
    "\n",
    "> **Questions:** aidez vous de la cellule suivante pour explorer cette structure de données: A quoi correspondent `arbre[0]`, `arbre[1][0]`, `arbre[1][1]`?\n",
    "\n",
    "\n"
   ]
  },
  {
   "cell_type": "code",
   "execution_count": null,
   "metadata": {
    "id": "DH7CMrvGjHe_"
   },
   "outputs": [],
   "source": [
    "arbre = ('r',('a',('c',None,None),('d',None,None)),('b',('e',None,None),('f',None,None)))\n"
   ]
  },
  {
   "cell_type": "markdown",
   "metadata": {
    "id": "Mk145AEbrBJl"
   },
   "source": [
    "## Dessiner l'arbre\n",
    "La librairie chargée contient la fonction `hierarchy_pos` pour la représentation graphique de cet arbre.\n",
    "\n",
    "On pourra adapter le script suivant lorsque l'on souhaitera tracer le dessin d'un arbre:\n"
   ]
  },
  {
   "cell_type": "code",
   "execution_count": null,
   "metadata": {
    "colab": {
     "base_uri": "https://localhost:8080/",
     "height": 319
    },
    "executionInfo": {
     "elapsed": 1999,
     "status": "ok",
     "timestamp": 1610098287954,
     "user": {
      "displayName": "Eric Tixidor",
      "photoUrl": "",
      "userId": "12381720922333714932"
     },
     "user_tz": -60
    },
    "id": "WFJZ3Qx7rU0H",
    "outputId": "cfd6842d-a50e-4d3d-8343-433d364e27bc"
   },
   "outputs": [],
   "source": [
    "from hierarchyP import hierarchy_pos\n",
    "import matplotlib.pyplot as plt\n",
    "import networkx as nx\n",
    "G=nx.Graph()\n",
    "G.root = 0\n",
    "# G est une instance de la classe Graph\n",
    "L = [(\"E\",\"B\"),(\"E\",\"F\"), (\"E\",\"H\"), (\"E\",\"I\"),(\"B\",\"A\"), (\"B\",\"C\"), (\"B\",\"D\"), (\"F\",\"G\"), (\"H\",\"J\"),(\"B\",\"E\")]\n",
    "# L représente la liste des branches de l'arbre. C'est une liste de tuples que l'on adaptera selon l'arbre.\n",
    "racine = \"E\"\n",
    "# racine stocke la clé correspondant à la racine de l'arbre (ici, c'est \"E\")\n",
    "G.add_edges_from(L)\n",
    "pos3 = hierarchy_pos(G,racine)\n",
    "\n",
    "nx.draw(G, pos=pos3, with_labels=True, font_size=15, font_family='sans-serif', node_color='white',alpha=0.9)\n",
    "\n",
    "plt.show()"
   ]
  },
  {
   "cell_type": "markdown",
   "metadata": {
    "id": "oXS2Yj0mshKp"
   },
   "source": [
    "> **Travail:** completer le script de la fonction `branches`, qui, à partir d'une liste (ou tuple) imbriquée, construit une liste de branches."
   ]
  },
  {
   "cell_type": "code",
   "execution_count": null,
   "metadata": {
    "id": "UjqRDdTzthDQ"
   },
   "outputs": [],
   "source": [
    "def branches(a, L=[]):\n",
    "    \"\"\"\n",
    "    L : list de tuples (clé père, clé fils)\n",
    "    a: list imbriquée: contient l'arbre\n",
    "    un noeud : tuple (cle,fils gauche,fils droit)\n",
    "    a[O]: clé\n",
    "    a[1]: noeud fils gauche\n",
    "    a[1][0]: clé du fils gauche\n",
    "    a[2][0]: clé du fils droit\n",
    "    ... \n",
    "    \"\"\"\n",
    "    if a is None:\n",
    "        return []\n",
    "    else:\n",
    "        if not a[1] is None:\n",
    "            L.append((a[0],a[1][0]))\n",
    "            branches(a[1],L)\n",
    "        if not a[2] is None:\n",
    "            L.append((a[0],a[2][0]))\n",
    "            branches(a[2],L)\n",
    "\n",
    "    return L\n",
    "\n"
   ]
  },
  {
   "cell_type": "code",
   "execution_count": null,
   "metadata": {
    "colab": {
     "base_uri": "https://localhost:8080/"
    },
    "executionInfo": {
     "elapsed": 807,
     "status": "ok",
     "timestamp": 1610099353005,
     "user": {
      "displayName": "Eric Tixidor",
      "photoUrl": "",
      "userId": "12381720922333714932"
     },
     "user_tz": -60
    },
    "id": "FgasJ0ZKhFTD",
    "outputId": "d8989e94-d483-48c4-e29e-a0d2191076d8"
   },
   "outputs": [],
   "source": [
    "branches(arbre,[])"
   ]
  },
  {
   "cell_type": "markdown",
   "metadata": {
    "id": "KPiKQoMZ1kyn"
   },
   "source": [
    "> **Travail:** adapter le script pour tracer l'`arbre` à partir de sa liste de branches."
   ]
  },
  {
   "cell_type": "code",
   "execution_count": null,
   "metadata": {
    "colab": {
     "base_uri": "https://localhost:8080/",
     "height": 319
    },
    "executionInfo": {
     "elapsed": 899,
     "status": "ok",
     "timestamp": 1610099383614,
     "user": {
      "displayName": "Eric Tixidor",
      "photoUrl": "",
      "userId": "12381720922333714932"
     },
     "user_tz": -60
    },
    "id": "sOgsq_6T0Okh",
    "outputId": "d3d37beb-38b8-4fed-f57c-0262e3c2bec3"
   },
   "outputs": [],
   "source": [
    "G=nx.Graph()\n",
    "G.root = 0\n",
    "\n",
    "L = branches(arbre,[])\n",
    "racine = 'r'\n",
    "G.add_edges_from(L)\n",
    "pos3 = hierarchy_pos(G,racine)\n",
    "\n",
    "nx.draw(G, pos=pos3, with_labels=True, font_size=15, font_family='sans-serif', node_color='white',alpha=0.9)\n",
    "\n",
    "plt.show()"
   ]
  },
  {
   "cell_type": "markdown",
   "metadata": {
    "id": "yUTATC_z20tT"
   },
   "source": [
    "## Parcours infixe\n",
    "> **Travail:** à l'aide de la fonction suivante: Ajouter l'instruction qui affiche le `parcours_infixe` de l'`arbre`."
   ]
  },
  {
   "cell_type": "code",
   "execution_count": null,
   "metadata": {
    "id": "q-UFykOg2_db"
   },
   "outputs": [],
   "source": [
    "def parcours_infixe(a)\n",
    "    if a is None:\n",
    "        return([])\n",
    "    else:\n",
    "        return parcours_infixe(a[1]) + [a[0]] + parcours_infixe(a[2])\n"
   ]
  },
  {
   "cell_type": "markdown",
   "metadata": {
    "id": "C73kMheg3dS0"
   },
   "source": [
    "**Travail:** Adapter ce script pour permettre les parcours *postfixe*, puis *prefixe* de cet arbre."
   ]
  },
  {
   "cell_type": "code",
   "execution_count": null,
   "metadata": {
    "id": "I_wGrxS13zcB"
   },
   "outputs": [],
   "source": [
    "def parcours_postfixe"
   ]
  },
  {
   "cell_type": "code",
   "execution_count": null,
   "metadata": {
    "id": "_-hCgDqbkcPo"
   },
   "outputs": [],
   "source": [
    "def parcours_prefixe"
   ]
  },
  {
   "cell_type": "markdown",
   "metadata": {
    "id": "5Y2pyVNx3-54"
   },
   "source": [
    "# Partie 2: Graphe représenté par un dictionnaire\n",
    "Les clés du dictionnaire représentent les sommets parents, et la liste de valeurs associées seront les sommets adjacents.\n",
    "\n",
    "G est un exemple d'un tel dictionnaire:"
   ]
  },
  {
   "cell_type": "code",
   "execution_count": null,
   "metadata": {
    "id": "V0VUnXFh4Z54"
   },
   "outputs": [],
   "source": [
    "G = dict()\n",
    "G['a'] = ['b','c']\n",
    "G['b'] = ['c','d'] \n",
    "G['c'] = ['e','i']\n",
    "G['d'] = ['f','g'] \n",
    "G['e'] = ['h',None]\n",
    "G['f'] = [None,None]\n",
    "G['g'] = [None,None]\n",
    "G['h'] = [None,None] \n",
    "\n",
    "G"
   ]
  },
  {
   "cell_type": "markdown",
   "metadata": {
    "id": "HJxh-2FQ5WMk"
   },
   "source": [
    "On souhaite créer une **matrice** pour représenter ce graphe. Pour cela, on parcourt les clés du dictionnaire. Et les valeurs de ces clés. On construit une liste d'adjacence où l'on met 1 lorsque deux sommets sont liés, et 0 sinon.\n",
    "\n",
    "> **Travail:** Completez le script de la fonction `matrice` qui créé une matrice à partir du dictionnaire. Vous devez obtenir la matrice suivante lorsque vous testez votre fonction avec `G`:\n",
    "\n",
    "```\n",
    "[[0, 1, 1, 0, 0, 0, 0, 0, 0],\n",
    " [0, 0, 1, 1, 0, 0, 0, 0, 0],\n",
    " [0, 0, 0, 0, 1, 0, 0, 0, 1],\n",
    " [0, 0, 0, 0, 0, 1, 1, 0, 0],\n",
    " [0, 0, 0, 0, 0, 0, 0, 1, 0],\n",
    " [0, 0, 0, 0, 0, 0, 0, 0, 0],\n",
    " [0, 0, 0, 0, 0, 0, 0, 0, 0],\n",
    " [0, 0, 0, 0, 0, 0, 0, 0, 0],\n",
    " [0, 0, 0, 0, 0, 0, 0, 0, 0]]\n",
    " ```"
   ]
  },
  {
   "cell_type": "code",
   "execution_count": null,
   "metadata": {
    "id": "PUaIPMfP6X2X"
   },
   "outputs": [],
   "source": [
    "def matrice(dictionnaire):\n",
    "    \"\"\"\n",
    "    créé une matrice à partir d'un dictionnaire\n",
    "    Params:\n",
    "    -------\n",
    "    dictionnaire: dict, represente le graphe\n",
    "    les clés sont les sommets\n",
    "    les valeurs sont les listes de sommets liés à la clé\n",
    "    Variables:\n",
    "    ----------\n",
    "    row: list, contient des 0 ou 1\n",
    "    M: matrice d'adjacence\n",
    "    cles: list, contient les etiquettes des sommets de maniere unique\n",
    "        exemple: ['a','b','c'...]\n",
    "    \"\"\"\n",
    "    \n",
    "    cles = list(dictionnaire.keys())\n",
    "    valeurs = ['a','b','c','d','e','f','g','h','i']\n",
    "    n = len(valeurs)\n",
    "    M = [[0]*n for loop in range(n)]\n",
    "    for i in range(len(cles)):\n",
    "        liste_sommets = dictionnaire[cles[i]]\n",
    "        for j in range(len(valeurs)):\n",
    "            # à compléter\n",
    "            # si cles[j] est dans la liste_sommets: \n",
    "            # mettre 1 dans la matrice au niveau de la ligne i et de la colonne j\n",
    "            \n",
    "\n",
    "    return M\n",
    "        \n",
    "matrice(G)"
   ]
  },
  {
   "cell_type": "markdown",
   "metadata": {
    "id": "PbQDFWZq7O5x"
   },
   "source": [
    "# Partie 3: Arbre et programmation orientée objet\n",
    "On donne la classe `ArbreBinaire` qui permettra de représenter l'arbre et de lui associer des méthodes.\n",
    "\n",
    "\n"
   ]
  },
  {
   "cell_type": "markdown",
   "metadata": {
    "id": "h52Z4WEbZb9_"
   },
   "source": [
    "> **Travail:** Ajouter les methodes de classe `set_value`, `set_FG` et `set_FD` qui vont permettre de modifier les valeurs des attributs (respectivement `cle`, `FilsGauche` et `FilsDroit`)"
   ]
  },
  {
   "cell_type": "code",
   "execution_count": null,
   "metadata": {
    "id": "411MEXz-75Id"
   },
   "outputs": [],
   "source": [
    "class ArbreBinaire:\n",
    "    def __init__(self,valeur):\n",
    "        self.cle = valeur\n",
    "        self.FilsGauche = None\n",
    "        self.FilsDroit = None\n",
    "            "
   ]
  },
  {
   "cell_type": "markdown",
   "metadata": {
    "id": "NYRLYqpPFysq"
   },
   "source": [
    "> **Travail:** Instancier les noeuds `racine`, `noeud1`, `noeud2`, ... pour représenter l'arbre de liste: \n",
    "\n",
    "```('r',('a',('c',None,None),('d',None,None)),('b',('e',None,None),('f',None,None)))```"
   ]
  },
  {
   "cell_type": "code",
   "execution_count": null,
   "metadata": {
    "id": "A8EMmnhZF2Wl"
   },
   "outputs": [],
   "source": [
    "racine = ArbreBinaire('r')\n",
    "noeud1 = ArbreBinaire('a')\n",
    "noeud2 = ArbreBinaire('b')\n",
    "noeud3 = ArbreBinaire('c')\n",
    "noeud4 = ArbreBinaire('d')\n",
    "noeud5 = ArbreBinaire('e')\n",
    "noeud6 = ArbreBinaire('f')\n",
    "\n",
    "racine.set_FG(noeud1)\n",
    "racine.set_FD(noeud2)\n",
    "noeud1.set_FG(noeud3)\n",
    "noeud1.set_FD(noeud4)\n",
    "noeud2.set_FG(noeud5)\n",
    "noeud2.set_FD(noeud6)"
   ]
  },
  {
   "cell_type": "markdown",
   "metadata": {
    "id": "BnTdMJ9IF9dT"
   },
   "source": [
    "## Parcours de l'arbre en programmation objet\n",
    "La méthode de parcours infixe est donnée ci-dessous:\n",
    "\n",
    "```\n",
    "def infixe(self):\n",
    "        if self is None:\n",
    "            return\n",
    "        if not self.FilsGauche is None:\n",
    "            self.FilsGauche.infixe()\n",
    "        print(self.cle)\n",
    "        if not self.FilsDroit is None:\n",
    "            self.FilsDroit.infixe()\n",
    "```\n",
    "\n",
    "Cette methode affiche les noeuds visités selon la méthode *infixe*.\n",
    "\n",
    "> **Travail:** Ajouter cette méthode à la classe `ArbreBinaire`. Puis testez la pour afficher le parcours infixe de cet arbre. (utiliser la même cellule que celle où vous avez instancié l'arbre).\n",
    "\n",
    "> **Travail:** Adapter cette méthode pour créer celles de parcours `postfixe`, et `prefixe`. Testez vos methodes pour afficher les parcours *postfixe* et *prefixe* de l'arbre.\n",
    "\n",
    "*Astuce: Lorsque vous modifiez la classe en lui ajoutant une méthode, pensez à executer à nouveau la cellule dans laquelle se fait l'instanciation de l'arbre pour mettre à jour ses methodes de classe.\n"
   ]
  },
  {
   "cell_type": "markdown",
   "metadata": {
    "id": "KMjJc_XJG9Qr"
   },
   "source": [
    "## Un exemple d'arbre binaire de recherche (ABR)\n",
    "ABR signifie arbre binaire de recherche. C'est un arbre binaire particulier qui est construit de telle sorte que le noeud fils gauche est toujours plus petit que son noeud parent. (Et le fils droit est toujours supérieur).\n",
    "\n",
    "Vous allez créer un nouvel arbre binaire sur le modèle de celui vu en exercices (page 2):\n",
    "\n",
    "```\n",
    "abr = (8,(3,(1,None,None),(6,(4,None,None),(7,None,None))),(10,None,(14,13,None)))\n",
    "```\n",
    "\n",
    "> **Travail:** Instancier l'arbre `abr` à l'aide de la classe `ArbreBinaire` comme vu plus haut.\n",
    "\n"
   ]
  },
  {
   "cell_type": "code",
   "execution_count": null,
   "metadata": {
    "id": "et7y_3fgMikG"
   },
   "outputs": [],
   "source": []
  },
  {
   "cell_type": "markdown",
   "metadata": {
    "id": "K-y-rCPrNOyk"
   },
   "source": [
    "> **Travail:** Utiliser la fonction `branches(abr)` pour générer une liste de branches. Puis tracer l'arbre avec la fonction `hierarchy_pos`."
   ]
  },
  {
   "cell_type": "code",
   "execution_count": null,
   "metadata": {
    "id": "_Klpe0xHlhs5"
   },
   "outputs": [],
   "source": [
    "L2 = branches(abr)"
   ]
  },
  {
   "cell_type": "code",
   "execution_count": null,
   "metadata": {
    "id": "jmdsh20CN1U8"
   },
   "outputs": [],
   "source": [
    "G=nx.Graph()\n",
    "G.root = 0\n",
    "# à completer\n",
    "\n",
    "\n",
    "\n",
    "\n",
    "\n",
    "\n",
    "nx.draw(G, pos=pos3, with_labels=True, font_size=15, font_family='sans-serif', node_color='white',alpha=0.9)\n",
    "\n",
    "plt.show()"
   ]
  },
  {
   "cell_type": "markdown",
   "metadata": {
    "id": "DhEd-JiBMH-m"
   },
   "source": [
    "## Recherche dans un ABR\n",
    "La méthode suivante permet d'effectuer une recherche dans un ABR de manière itérative (non recursive).\n",
    "\n",
    "```\n",
    "def recherche_iter(self,value):\n",
    "        A = self\n",
    "        while not A is None and A.cle != value:\n",
    "            x = A.cle\n",
    "            if value < x:\n",
    "                A = A.FilsGauche\n",
    "            else : \n",
    "                A = A.FilsDroit\n",
    "        if A == None:\n",
    "            return False\n",
    "        else:\n",
    "            return True\n",
    "```\n",
    "\n",
    "> **Travail:** Ajouter cette méthode à la classe `ArbreBinaire`. Executer à nouveau la cellule d'instancier de l'arbre `abr` (cellule precedente). Et tester l'eventuelle présence dans cet arbre du nombre **13**, puis du nombre **15**.\n"
   ]
  },
  {
   "cell_type": "code",
   "execution_count": null,
   "metadata": {
    "id": "pCH59Q2_MxIp"
   },
   "outputs": [],
   "source": []
  },
  {
   "cell_type": "code",
   "execution_count": null,
   "metadata": {
    "id": "aMb_p40ziizP"
   },
   "outputs": [],
   "source": []
  },
  {
   "cell_type": "markdown",
   "metadata": {
    "id": "prWgIFcdMN4B"
   },
   "source": [
    "## Algorithme de recherche récursif\n",
    "\n",
    "Voici l'algorithme de recherche reecursif dans un *ABR*:\n",
    "\n",
    "```\n",
    "fonction recherche_recur(A,v):\n",
    "        Si A est Vide\n",
    "          retourne Faux\n",
    "        Sinon\n",
    "          x = A.cle\n",
    "          Si x == v\n",
    "            retourner Vrai\n",
    "          Sinon si v < x ET A.FilsGauche non Vide\n",
    "            retourner A.FilsGauche.recherche_recur(v)\n",
    "          Sinon si v > x ET A.FilsDroit non vide\n",
    "            retourner A.FilsDroit.recherche_recur(v)\n",
    "          Sinon\n",
    "            retourner Faux\n",
    "```\n",
    "\n",
    "\n",
    "> **Travail:** Adapter cet algorithme pour écrire la méthode de classe `recherche_recur`, que vous ajouterez à la classe `ArbreBinaire`. Testez cette méthode avec certaines valeurs, presentes ou non dans l'arbre.\n"
   ]
  },
  {
   "cell_type": "code",
   "execution_count": null,
   "metadata": {
    "id": "XgPL2cd7NFmv"
   },
   "outputs": [],
   "source": []
  },
  {
   "cell_type": "code",
   "execution_count": null,
   "metadata": {
    "id": "m83L-im9iZkF"
   },
   "outputs": [],
   "source": []
  }
 ],
 "metadata": {
  "colab": {
   "authorship_tag": "ABX9TyMnbAsKhyTLUHZ/bzWsCs/6",
   "collapsed_sections": [],
   "name": "sd5_notebook.ipynb",
   "provenance": [
    {
     "file_id": "18VUCVjH9u9V3jF7JU2VRy0XZWQwyXtqO",
     "timestamp": 1610051417001
    }
   ]
  },
  "kernelspec": {
   "display_name": "Python 3",
   "language": "python",
   "name": "python3"
  },
  "language_info": {
   "codemirror_mode": {
    "name": "ipython",
    "version": 3
   },
   "file_extension": ".py",
   "mimetype": "text/x-python",
   "name": "python",
   "nbconvert_exporter": "python",
   "pygments_lexer": "ipython3",
   "version": "3.7.9"
  }
 },
 "nbformat": 4,
 "nbformat_minor": 1
}
